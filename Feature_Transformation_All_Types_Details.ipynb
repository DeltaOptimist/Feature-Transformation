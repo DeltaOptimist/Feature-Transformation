{
  "cells": [
    {
      "cell_type": "markdown",
      "metadata": {
        "id": "hjeOWyRimLyQ"
      },
      "source": [
        "### Transformation of Features\n",
        "\n",
        "Why Transformation of Features Are Required?\n",
        "\n",
        "1. Linear Regression---Gradient Descent ----Global Minima\n",
        "2. Algorithms like KNN,K Means,Hierarichal Clustering--- Eucledian Distance\n",
        "\n",
        "Every Point has some vectors and Directiom\n",
        "\n",
        "Deep Learning Techniques(Standardization, Scaling)\n",
        "1.ANN--->GLobal Minima, Gradient\n",
        "2.CNN\n",
        "3.RNN\n",
        "\n",
        "0-255 pixels"
      ]
    },
    {
      "cell_type": "markdown",
      "metadata": {
        "id": "6ffme2WtmLyV"
      },
      "source": [
        "#### Types Of Transformation\n",
        "1. Normalization And Standardization\n",
        "2. Scaling to Minimum And Maximum values\n",
        "3. Scaling To Median And Quantiles\n",
        "4. Guassian Transformation\n",
        "5. Logarithmic Transformation\n",
        "6. Reciprocal Trnasformation\n",
        "7. Square Root Transformation\n",
        "8. Exponential Trnasformation\n",
        "9. Box Cox Transformation"
      ]
    },
    {
      "cell_type": "markdown",
      "metadata": {
        "id": "kxFg0ljNmLyW"
      },
      "source": [
        "##### Standardization(Why standardization?)\n",
        "Standardization comes into picture when features of input data set have large differences between their ranges, or simply when they are measured in different measurement units (e.g., Pounds, Meters, Miles … etc).\n",
        "\n",
        "We try to bring all the variables or features to a similar scale. standarisation means centering the variable at zero.\n",
        "z=(x-x_mean)/std"
      ]
    },
    {
      "cell_type": "code",
      "execution_count": 1,
      "metadata": {
        "colab": {
          "base_uri": "https://localhost:8080/",
          "height": 206
        },
        "id": "7fXkQKzcmLyX",
        "outputId": "709084b8-eea6-4b46-d62f-a5987f699101"
      },
      "outputs": [
        {
          "output_type": "execute_result",
          "data": {
            "text/html": [
              "\n",
              "  <div id=\"df-bfc667e1-a7e0-43e8-a26a-116667d72e06\">\n",
              "    <div class=\"colab-df-container\">\n",
              "      <div>\n",
              "<style scoped>\n",
              "    .dataframe tbody tr th:only-of-type {\n",
              "        vertical-align: middle;\n",
              "    }\n",
              "\n",
              "    .dataframe tbody tr th {\n",
              "        vertical-align: top;\n",
              "    }\n",
              "\n",
              "    .dataframe thead th {\n",
              "        text-align: right;\n",
              "    }\n",
              "</style>\n",
              "<table border=\"1\" class=\"dataframe\">\n",
              "  <thead>\n",
              "    <tr style=\"text-align: right;\">\n",
              "      <th></th>\n",
              "      <th>Survived</th>\n",
              "      <th>Pclass</th>\n",
              "      <th>Age</th>\n",
              "      <th>Fare</th>\n",
              "    </tr>\n",
              "  </thead>\n",
              "  <tbody>\n",
              "    <tr>\n",
              "      <th>0</th>\n",
              "      <td>0</td>\n",
              "      <td>3</td>\n",
              "      <td>22.0</td>\n",
              "      <td>7.2500</td>\n",
              "    </tr>\n",
              "    <tr>\n",
              "      <th>1</th>\n",
              "      <td>1</td>\n",
              "      <td>1</td>\n",
              "      <td>38.0</td>\n",
              "      <td>71.2833</td>\n",
              "    </tr>\n",
              "    <tr>\n",
              "      <th>2</th>\n",
              "      <td>1</td>\n",
              "      <td>3</td>\n",
              "      <td>26.0</td>\n",
              "      <td>7.9250</td>\n",
              "    </tr>\n",
              "    <tr>\n",
              "      <th>3</th>\n",
              "      <td>1</td>\n",
              "      <td>1</td>\n",
              "      <td>35.0</td>\n",
              "      <td>53.1000</td>\n",
              "    </tr>\n",
              "    <tr>\n",
              "      <th>4</th>\n",
              "      <td>0</td>\n",
              "      <td>3</td>\n",
              "      <td>35.0</td>\n",
              "      <td>8.0500</td>\n",
              "    </tr>\n",
              "  </tbody>\n",
              "</table>\n",
              "</div>\n",
              "      <button class=\"colab-df-convert\" onclick=\"convertToInteractive('df-bfc667e1-a7e0-43e8-a26a-116667d72e06')\"\n",
              "              title=\"Convert this dataframe to an interactive table.\"\n",
              "              style=\"display:none;\">\n",
              "        \n",
              "  <svg xmlns=\"http://www.w3.org/2000/svg\" height=\"24px\"viewBox=\"0 0 24 24\"\n",
              "       width=\"24px\">\n",
              "    <path d=\"M0 0h24v24H0V0z\" fill=\"none\"/>\n",
              "    <path d=\"M18.56 5.44l.94 2.06.94-2.06 2.06-.94-2.06-.94-.94-2.06-.94 2.06-2.06.94zm-11 1L8.5 8.5l.94-2.06 2.06-.94-2.06-.94L8.5 2.5l-.94 2.06-2.06.94zm10 10l.94 2.06.94-2.06 2.06-.94-2.06-.94-.94-2.06-.94 2.06-2.06.94z\"/><path d=\"M17.41 7.96l-1.37-1.37c-.4-.4-.92-.59-1.43-.59-.52 0-1.04.2-1.43.59L10.3 9.45l-7.72 7.72c-.78.78-.78 2.05 0 2.83L4 21.41c.39.39.9.59 1.41.59.51 0 1.02-.2 1.41-.59l7.78-7.78 2.81-2.81c.8-.78.8-2.07 0-2.86zM5.41 20L4 18.59l7.72-7.72 1.47 1.35L5.41 20z\"/>\n",
              "  </svg>\n",
              "      </button>\n",
              "      \n",
              "  <style>\n",
              "    .colab-df-container {\n",
              "      display:flex;\n",
              "      flex-wrap:wrap;\n",
              "      gap: 12px;\n",
              "    }\n",
              "\n",
              "    .colab-df-convert {\n",
              "      background-color: #E8F0FE;\n",
              "      border: none;\n",
              "      border-radius: 50%;\n",
              "      cursor: pointer;\n",
              "      display: none;\n",
              "      fill: #1967D2;\n",
              "      height: 32px;\n",
              "      padding: 0 0 0 0;\n",
              "      width: 32px;\n",
              "    }\n",
              "\n",
              "    .colab-df-convert:hover {\n",
              "      background-color: #E2EBFA;\n",
              "      box-shadow: 0px 1px 2px rgba(60, 64, 67, 0.3), 0px 1px 3px 1px rgba(60, 64, 67, 0.15);\n",
              "      fill: #174EA6;\n",
              "    }\n",
              "\n",
              "    [theme=dark] .colab-df-convert {\n",
              "      background-color: #3B4455;\n",
              "      fill: #D2E3FC;\n",
              "    }\n",
              "\n",
              "    [theme=dark] .colab-df-convert:hover {\n",
              "      background-color: #434B5C;\n",
              "      box-shadow: 0px 1px 3px 1px rgba(0, 0, 0, 0.15);\n",
              "      filter: drop-shadow(0px 1px 2px rgba(0, 0, 0, 0.3));\n",
              "      fill: #FFFFFF;\n",
              "    }\n",
              "  </style>\n",
              "\n",
              "      <script>\n",
              "        const buttonEl =\n",
              "          document.querySelector('#df-bfc667e1-a7e0-43e8-a26a-116667d72e06 button.colab-df-convert');\n",
              "        buttonEl.style.display =\n",
              "          google.colab.kernel.accessAllowed ? 'block' : 'none';\n",
              "\n",
              "        async function convertToInteractive(key) {\n",
              "          const element = document.querySelector('#df-bfc667e1-a7e0-43e8-a26a-116667d72e06');\n",
              "          const dataTable =\n",
              "            await google.colab.kernel.invokeFunction('convertToInteractive',\n",
              "                                                     [key], {});\n",
              "          if (!dataTable) return;\n",
              "\n",
              "          const docLinkHtml = 'Like what you see? Visit the ' +\n",
              "            '<a target=\"_blank\" href=https://colab.research.google.com/notebooks/data_table.ipynb>data table notebook</a>'\n",
              "            + ' to learn more about interactive tables.';\n",
              "          element.innerHTML = '';\n",
              "          dataTable['output_type'] = 'display_data';\n",
              "          await google.colab.output.renderOutput(dataTable, element);\n",
              "          const docLink = document.createElement('div');\n",
              "          docLink.innerHTML = docLinkHtml;\n",
              "          element.appendChild(docLink);\n",
              "        }\n",
              "      </script>\n",
              "    </div>\n",
              "  </div>\n",
              "  "
            ],
            "text/plain": [
              "   Survived  Pclass   Age     Fare\n",
              "0         0       3  22.0   7.2500\n",
              "1         1       1  38.0  71.2833\n",
              "2         1       3  26.0   7.9250\n",
              "3         1       1  35.0  53.1000\n",
              "4         0       3  35.0   8.0500"
            ]
          },
          "metadata": {},
          "execution_count": 1
        }
      ],
      "source": [
        "import pandas as pd\n",
        "df=pd.read_csv('titanic.csv', usecols=['Pclass','Age','Fare','Survived'])\n",
        "df.head()\n"
      ]
    },
    {
      "cell_type": "code",
      "execution_count": 2,
      "metadata": {
        "id": "auoPFOY3mLyZ"
      },
      "outputs": [],
      "source": [
        "df['Age'].fillna(df.Age.median(),inplace=True)"
      ]
    },
    {
      "cell_type": "code",
      "execution_count": 3,
      "metadata": {
        "colab": {
          "base_uri": "https://localhost:8080/"
        },
        "id": "kFxs6bxDmLyZ",
        "outputId": "a151a3d2-e60d-4838-9918-c60978f231dc"
      },
      "outputs": [
        {
          "output_type": "execute_result",
          "data": {
            "text/plain": [
              "Survived    0\n",
              "Pclass      0\n",
              "Age         0\n",
              "Fare        0\n",
              "dtype: int64"
            ]
          },
          "metadata": {},
          "execution_count": 3
        }
      ],
      "source": [
        "df.isnull().sum()"
      ]
    },
    {
      "cell_type": "code",
      "execution_count": 4,
      "metadata": {
        "id": "YaBqxVpsmLya"
      },
      "outputs": [],
      "source": [
        "### Independent and dependent features\n",
        "X=df.iloc[:,1:]\n",
        "y=df.iloc[:,0]"
      ]
    },
    {
      "cell_type": "code",
      "execution_count": 5,
      "metadata": {
        "colab": {
          "base_uri": "https://localhost:8080/",
          "height": 423
        },
        "id": "_UbqKexwmLyb",
        "outputId": "ae6fb3b3-afbb-472d-96e5-a68b65e9c70c"
      },
      "outputs": [
        {
          "output_type": "execute_result",
          "data": {
            "text/html": [
              "\n",
              "  <div id=\"df-3159972a-8628-4427-80f2-6e52cec6c756\">\n",
              "    <div class=\"colab-df-container\">\n",
              "      <div>\n",
              "<style scoped>\n",
              "    .dataframe tbody tr th:only-of-type {\n",
              "        vertical-align: middle;\n",
              "    }\n",
              "\n",
              "    .dataframe tbody tr th {\n",
              "        vertical-align: top;\n",
              "    }\n",
              "\n",
              "    .dataframe thead th {\n",
              "        text-align: right;\n",
              "    }\n",
              "</style>\n",
              "<table border=\"1\" class=\"dataframe\">\n",
              "  <thead>\n",
              "    <tr style=\"text-align: right;\">\n",
              "      <th></th>\n",
              "      <th>Pclass</th>\n",
              "      <th>Age</th>\n",
              "      <th>Fare</th>\n",
              "    </tr>\n",
              "  </thead>\n",
              "  <tbody>\n",
              "    <tr>\n",
              "      <th>0</th>\n",
              "      <td>3</td>\n",
              "      <td>22.0</td>\n",
              "      <td>7.2500</td>\n",
              "    </tr>\n",
              "    <tr>\n",
              "      <th>1</th>\n",
              "      <td>1</td>\n",
              "      <td>38.0</td>\n",
              "      <td>71.2833</td>\n",
              "    </tr>\n",
              "    <tr>\n",
              "      <th>2</th>\n",
              "      <td>3</td>\n",
              "      <td>26.0</td>\n",
              "      <td>7.9250</td>\n",
              "    </tr>\n",
              "    <tr>\n",
              "      <th>3</th>\n",
              "      <td>1</td>\n",
              "      <td>35.0</td>\n",
              "      <td>53.1000</td>\n",
              "    </tr>\n",
              "    <tr>\n",
              "      <th>4</th>\n",
              "      <td>3</td>\n",
              "      <td>35.0</td>\n",
              "      <td>8.0500</td>\n",
              "    </tr>\n",
              "    <tr>\n",
              "      <th>...</th>\n",
              "      <td>...</td>\n",
              "      <td>...</td>\n",
              "      <td>...</td>\n",
              "    </tr>\n",
              "    <tr>\n",
              "      <th>886</th>\n",
              "      <td>2</td>\n",
              "      <td>27.0</td>\n",
              "      <td>13.0000</td>\n",
              "    </tr>\n",
              "    <tr>\n",
              "      <th>887</th>\n",
              "      <td>1</td>\n",
              "      <td>19.0</td>\n",
              "      <td>30.0000</td>\n",
              "    </tr>\n",
              "    <tr>\n",
              "      <th>888</th>\n",
              "      <td>3</td>\n",
              "      <td>28.0</td>\n",
              "      <td>23.4500</td>\n",
              "    </tr>\n",
              "    <tr>\n",
              "      <th>889</th>\n",
              "      <td>1</td>\n",
              "      <td>26.0</td>\n",
              "      <td>30.0000</td>\n",
              "    </tr>\n",
              "    <tr>\n",
              "      <th>890</th>\n",
              "      <td>3</td>\n",
              "      <td>32.0</td>\n",
              "      <td>7.7500</td>\n",
              "    </tr>\n",
              "  </tbody>\n",
              "</table>\n",
              "<p>891 rows × 3 columns</p>\n",
              "</div>\n",
              "      <button class=\"colab-df-convert\" onclick=\"convertToInteractive('df-3159972a-8628-4427-80f2-6e52cec6c756')\"\n",
              "              title=\"Convert this dataframe to an interactive table.\"\n",
              "              style=\"display:none;\">\n",
              "        \n",
              "  <svg xmlns=\"http://www.w3.org/2000/svg\" height=\"24px\"viewBox=\"0 0 24 24\"\n",
              "       width=\"24px\">\n",
              "    <path d=\"M0 0h24v24H0V0z\" fill=\"none\"/>\n",
              "    <path d=\"M18.56 5.44l.94 2.06.94-2.06 2.06-.94-2.06-.94-.94-2.06-.94 2.06-2.06.94zm-11 1L8.5 8.5l.94-2.06 2.06-.94-2.06-.94L8.5 2.5l-.94 2.06-2.06.94zm10 10l.94 2.06.94-2.06 2.06-.94-2.06-.94-.94-2.06-.94 2.06-2.06.94z\"/><path d=\"M17.41 7.96l-1.37-1.37c-.4-.4-.92-.59-1.43-.59-.52 0-1.04.2-1.43.59L10.3 9.45l-7.72 7.72c-.78.78-.78 2.05 0 2.83L4 21.41c.39.39.9.59 1.41.59.51 0 1.02-.2 1.41-.59l7.78-7.78 2.81-2.81c.8-.78.8-2.07 0-2.86zM5.41 20L4 18.59l7.72-7.72 1.47 1.35L5.41 20z\"/>\n",
              "  </svg>\n",
              "      </button>\n",
              "      \n",
              "  <style>\n",
              "    .colab-df-container {\n",
              "      display:flex;\n",
              "      flex-wrap:wrap;\n",
              "      gap: 12px;\n",
              "    }\n",
              "\n",
              "    .colab-df-convert {\n",
              "      background-color: #E8F0FE;\n",
              "      border: none;\n",
              "      border-radius: 50%;\n",
              "      cursor: pointer;\n",
              "      display: none;\n",
              "      fill: #1967D2;\n",
              "      height: 32px;\n",
              "      padding: 0 0 0 0;\n",
              "      width: 32px;\n",
              "    }\n",
              "\n",
              "    .colab-df-convert:hover {\n",
              "      background-color: #E2EBFA;\n",
              "      box-shadow: 0px 1px 2px rgba(60, 64, 67, 0.3), 0px 1px 3px 1px rgba(60, 64, 67, 0.15);\n",
              "      fill: #174EA6;\n",
              "    }\n",
              "\n",
              "    [theme=dark] .colab-df-convert {\n",
              "      background-color: #3B4455;\n",
              "      fill: #D2E3FC;\n",
              "    }\n",
              "\n",
              "    [theme=dark] .colab-df-convert:hover {\n",
              "      background-color: #434B5C;\n",
              "      box-shadow: 0px 1px 3px 1px rgba(0, 0, 0, 0.15);\n",
              "      filter: drop-shadow(0px 1px 2px rgba(0, 0, 0, 0.3));\n",
              "      fill: #FFFFFF;\n",
              "    }\n",
              "  </style>\n",
              "\n",
              "      <script>\n",
              "        const buttonEl =\n",
              "          document.querySelector('#df-3159972a-8628-4427-80f2-6e52cec6c756 button.colab-df-convert');\n",
              "        buttonEl.style.display =\n",
              "          google.colab.kernel.accessAllowed ? 'block' : 'none';\n",
              "\n",
              "        async function convertToInteractive(key) {\n",
              "          const element = document.querySelector('#df-3159972a-8628-4427-80f2-6e52cec6c756');\n",
              "          const dataTable =\n",
              "            await google.colab.kernel.invokeFunction('convertToInteractive',\n",
              "                                                     [key], {});\n",
              "          if (!dataTable) return;\n",
              "\n",
              "          const docLinkHtml = 'Like what you see? Visit the ' +\n",
              "            '<a target=\"_blank\" href=https://colab.research.google.com/notebooks/data_table.ipynb>data table notebook</a>'\n",
              "            + ' to learn more about interactive tables.';\n",
              "          element.innerHTML = '';\n",
              "          dataTable['output_type'] = 'display_data';\n",
              "          await google.colab.output.renderOutput(dataTable, element);\n",
              "          const docLink = document.createElement('div');\n",
              "          docLink.innerHTML = docLinkHtml;\n",
              "          element.appendChild(docLink);\n",
              "        }\n",
              "      </script>\n",
              "    </div>\n",
              "  </div>\n",
              "  "
            ],
            "text/plain": [
              "     Pclass   Age     Fare\n",
              "0         3  22.0   7.2500\n",
              "1         1  38.0  71.2833\n",
              "2         3  26.0   7.9250\n",
              "3         1  35.0  53.1000\n",
              "4         3  35.0   8.0500\n",
              "..      ...   ...      ...\n",
              "886       2  27.0  13.0000\n",
              "887       1  19.0  30.0000\n",
              "888       3  28.0  23.4500\n",
              "889       1  26.0  30.0000\n",
              "890       3  32.0   7.7500\n",
              "\n",
              "[891 rows x 3 columns]"
            ]
          },
          "metadata": {},
          "execution_count": 5
        }
      ],
      "source": [
        "X"
      ]
    },
    {
      "cell_type": "code",
      "execution_count": 6,
      "metadata": {
        "id": "1ksTkRwVmLyc"
      },
      "outputs": [],
      "source": [
        "from sklearn.model_selection import train_test_split\n",
        "X_train, X_test, y_train, y_test = train_test_split(X, y, test_size=0.33, random_state=42)"
      ]
    },
    {
      "cell_type": "code",
      "execution_count": 7,
      "metadata": {
        "colab": {
          "base_uri": "https://localhost:8080/",
          "height": 423
        },
        "id": "s6U_Ku62mLyd",
        "outputId": "3f788e2d-5214-448c-bdb4-553e51f2fbef"
      },
      "outputs": [
        {
          "output_type": "execute_result",
          "data": {
            "text/html": [
              "\n",
              "  <div id=\"df-07844e36-79bb-4bb9-a22a-19f6c943f675\">\n",
              "    <div class=\"colab-df-container\">\n",
              "      <div>\n",
              "<style scoped>\n",
              "    .dataframe tbody tr th:only-of-type {\n",
              "        vertical-align: middle;\n",
              "    }\n",
              "\n",
              "    .dataframe tbody tr th {\n",
              "        vertical-align: top;\n",
              "    }\n",
              "\n",
              "    .dataframe thead th {\n",
              "        text-align: right;\n",
              "    }\n",
              "</style>\n",
              "<table border=\"1\" class=\"dataframe\">\n",
              "  <thead>\n",
              "    <tr style=\"text-align: right;\">\n",
              "      <th></th>\n",
              "      <th>Pclass</th>\n",
              "      <th>Age</th>\n",
              "      <th>Fare</th>\n",
              "    </tr>\n",
              "  </thead>\n",
              "  <tbody>\n",
              "    <tr>\n",
              "      <th>6</th>\n",
              "      <td>1</td>\n",
              "      <td>54.0</td>\n",
              "      <td>51.8625</td>\n",
              "    </tr>\n",
              "    <tr>\n",
              "      <th>718</th>\n",
              "      <td>3</td>\n",
              "      <td>28.0</td>\n",
              "      <td>15.5000</td>\n",
              "    </tr>\n",
              "    <tr>\n",
              "      <th>685</th>\n",
              "      <td>2</td>\n",
              "      <td>25.0</td>\n",
              "      <td>41.5792</td>\n",
              "    </tr>\n",
              "    <tr>\n",
              "      <th>73</th>\n",
              "      <td>3</td>\n",
              "      <td>26.0</td>\n",
              "      <td>14.4542</td>\n",
              "    </tr>\n",
              "    <tr>\n",
              "      <th>882</th>\n",
              "      <td>3</td>\n",
              "      <td>22.0</td>\n",
              "      <td>10.5167</td>\n",
              "    </tr>\n",
              "    <tr>\n",
              "      <th>...</th>\n",
              "      <td>...</td>\n",
              "      <td>...</td>\n",
              "      <td>...</td>\n",
              "    </tr>\n",
              "    <tr>\n",
              "      <th>106</th>\n",
              "      <td>3</td>\n",
              "      <td>21.0</td>\n",
              "      <td>7.6500</td>\n",
              "    </tr>\n",
              "    <tr>\n",
              "      <th>270</th>\n",
              "      <td>1</td>\n",
              "      <td>28.0</td>\n",
              "      <td>31.0000</td>\n",
              "    </tr>\n",
              "    <tr>\n",
              "      <th>860</th>\n",
              "      <td>3</td>\n",
              "      <td>41.0</td>\n",
              "      <td>14.1083</td>\n",
              "    </tr>\n",
              "    <tr>\n",
              "      <th>435</th>\n",
              "      <td>1</td>\n",
              "      <td>14.0</td>\n",
              "      <td>120.0000</td>\n",
              "    </tr>\n",
              "    <tr>\n",
              "      <th>102</th>\n",
              "      <td>1</td>\n",
              "      <td>21.0</td>\n",
              "      <td>77.2875</td>\n",
              "    </tr>\n",
              "  </tbody>\n",
              "</table>\n",
              "<p>596 rows × 3 columns</p>\n",
              "</div>\n",
              "      <button class=\"colab-df-convert\" onclick=\"convertToInteractive('df-07844e36-79bb-4bb9-a22a-19f6c943f675')\"\n",
              "              title=\"Convert this dataframe to an interactive table.\"\n",
              "              style=\"display:none;\">\n",
              "        \n",
              "  <svg xmlns=\"http://www.w3.org/2000/svg\" height=\"24px\"viewBox=\"0 0 24 24\"\n",
              "       width=\"24px\">\n",
              "    <path d=\"M0 0h24v24H0V0z\" fill=\"none\"/>\n",
              "    <path d=\"M18.56 5.44l.94 2.06.94-2.06 2.06-.94-2.06-.94-.94-2.06-.94 2.06-2.06.94zm-11 1L8.5 8.5l.94-2.06 2.06-.94-2.06-.94L8.5 2.5l-.94 2.06-2.06.94zm10 10l.94 2.06.94-2.06 2.06-.94-2.06-.94-.94-2.06-.94 2.06-2.06.94z\"/><path d=\"M17.41 7.96l-1.37-1.37c-.4-.4-.92-.59-1.43-.59-.52 0-1.04.2-1.43.59L10.3 9.45l-7.72 7.72c-.78.78-.78 2.05 0 2.83L4 21.41c.39.39.9.59 1.41.59.51 0 1.02-.2 1.41-.59l7.78-7.78 2.81-2.81c.8-.78.8-2.07 0-2.86zM5.41 20L4 18.59l7.72-7.72 1.47 1.35L5.41 20z\"/>\n",
              "  </svg>\n",
              "      </button>\n",
              "      \n",
              "  <style>\n",
              "    .colab-df-container {\n",
              "      display:flex;\n",
              "      flex-wrap:wrap;\n",
              "      gap: 12px;\n",
              "    }\n",
              "\n",
              "    .colab-df-convert {\n",
              "      background-color: #E8F0FE;\n",
              "      border: none;\n",
              "      border-radius: 50%;\n",
              "      cursor: pointer;\n",
              "      display: none;\n",
              "      fill: #1967D2;\n",
              "      height: 32px;\n",
              "      padding: 0 0 0 0;\n",
              "      width: 32px;\n",
              "    }\n",
              "\n",
              "    .colab-df-convert:hover {\n",
              "      background-color: #E2EBFA;\n",
              "      box-shadow: 0px 1px 2px rgba(60, 64, 67, 0.3), 0px 1px 3px 1px rgba(60, 64, 67, 0.15);\n",
              "      fill: #174EA6;\n",
              "    }\n",
              "\n",
              "    [theme=dark] .colab-df-convert {\n",
              "      background-color: #3B4455;\n",
              "      fill: #D2E3FC;\n",
              "    }\n",
              "\n",
              "    [theme=dark] .colab-df-convert:hover {\n",
              "      background-color: #434B5C;\n",
              "      box-shadow: 0px 1px 3px 1px rgba(0, 0, 0, 0.15);\n",
              "      filter: drop-shadow(0px 1px 2px rgba(0, 0, 0, 0.3));\n",
              "      fill: #FFFFFF;\n",
              "    }\n",
              "  </style>\n",
              "\n",
              "      <script>\n",
              "        const buttonEl =\n",
              "          document.querySelector('#df-07844e36-79bb-4bb9-a22a-19f6c943f675 button.colab-df-convert');\n",
              "        buttonEl.style.display =\n",
              "          google.colab.kernel.accessAllowed ? 'block' : 'none';\n",
              "\n",
              "        async function convertToInteractive(key) {\n",
              "          const element = document.querySelector('#df-07844e36-79bb-4bb9-a22a-19f6c943f675');\n",
              "          const dataTable =\n",
              "            await google.colab.kernel.invokeFunction('convertToInteractive',\n",
              "                                                     [key], {});\n",
              "          if (!dataTable) return;\n",
              "\n",
              "          const docLinkHtml = 'Like what you see? Visit the ' +\n",
              "            '<a target=\"_blank\" href=https://colab.research.google.com/notebooks/data_table.ipynb>data table notebook</a>'\n",
              "            + ' to learn more about interactive tables.';\n",
              "          element.innerHTML = '';\n",
              "          dataTable['output_type'] = 'display_data';\n",
              "          await google.colab.output.renderOutput(dataTable, element);\n",
              "          const docLink = document.createElement('div');\n",
              "          docLink.innerHTML = docLinkHtml;\n",
              "          element.appendChild(docLink);\n",
              "        }\n",
              "      </script>\n",
              "    </div>\n",
              "  </div>\n",
              "  "
            ],
            "text/plain": [
              "     Pclass   Age      Fare\n",
              "6         1  54.0   51.8625\n",
              "718       3  28.0   15.5000\n",
              "685       2  25.0   41.5792\n",
              "73        3  26.0   14.4542\n",
              "882       3  22.0   10.5167\n",
              "..      ...   ...       ...\n",
              "106       3  21.0    7.6500\n",
              "270       1  28.0   31.0000\n",
              "860       3  41.0   14.1083\n",
              "435       1  14.0  120.0000\n",
              "102       1  21.0   77.2875\n",
              "\n",
              "[596 rows x 3 columns]"
            ]
          },
          "metadata": {},
          "execution_count": 7
        }
      ],
      "source": [
        "X_train"
      ]
    },
    {
      "cell_type": "code",
      "execution_count": 8,
      "metadata": {
        "id": "iukjJ8_PmLyd"
      },
      "outputs": [],
      "source": [
        "#### standarisation: We use the Standardscaler from sklearn library\n",
        "from sklearn.preprocessing import StandardScaler"
      ]
    },
    {
      "cell_type": "code",
      "execution_count": 9,
      "metadata": {
        "id": "Kx5PChHamLye"
      },
      "outputs": [],
      "source": [
        "scaler=StandardScaler()\n",
        "### fit vs fit_transform\n",
        "X_train_scaled=scaler.fit_transform(X_train)"
      ]
    },
    {
      "cell_type": "code",
      "execution_count": 10,
      "metadata": {
        "colab": {
          "base_uri": "https://localhost:8080/"
        },
        "id": "oP2_7-kgmLyf",
        "outputId": "ba369b57-e40f-469d-8e8c-952f889423b2"
      },
      "outputs": [
        {
          "output_type": "execute_result",
          "data": {
            "text/plain": [
              "array([[-1.62580285,  1.91349292,  0.38784185],\n",
              "       [ 0.80576177, -0.09452019, -0.31908053],\n",
              "       [-0.41002054, -0.32621401,  0.18792449],\n",
              "       ...,\n",
              "       [ 0.80576177,  0.90948636, -0.34613654],\n",
              "       [-1.62580285, -1.17575802,  1.71250117],\n",
              "       [-1.62580285, -0.63513911,  0.8821286 ]])"
            ]
          },
          "metadata": {},
          "execution_count": 10
        }
      ],
      "source": [
        "X_train_scaled"
      ]
    },
    {
      "cell_type": "code",
      "execution_count": 11,
      "metadata": {
        "id": "DTbsgkfqmLyf"
      },
      "outputs": [],
      "source": [
        "X_test_scaled=scaler.transform(X_test)"
      ]
    },
    {
      "cell_type": "code",
      "execution_count": 12,
      "metadata": {
        "colab": {
          "base_uri": "https://localhost:8080/"
        },
        "id": "a7gx0A7imLyg",
        "outputId": "f86f3187-bd05-4b25-abf8-52deaf7514cb"
      },
      "outputs": [
        {
          "output_type": "execute_result",
          "data": {
            "text/plain": [
              "array([[ 0.80576177, -0.09452019, -0.32402243],\n",
              "       [-0.41002054,  0.13717363, -0.4162854 ],\n",
              "       [ 0.80576177, -0.71237038, -0.46634591],\n",
              "       [-0.41002054, -1.79360821,  0.0211365 ],\n",
              "       [ 0.80576177, -1.17575802, -0.40186603],\n",
              "       [-1.62580285, -0.24898274,  0.91250512],\n",
              "       [ 0.80576177, -0.09452019, -0.46974808],\n",
              "       [ 0.80576177, -1.02129548, -0.2704781 ],\n",
              "       [ 0.80576177, -1.02129548, -0.46974808],\n",
              "       [-1.62580285, -0.78960166, -0.10944269],\n",
              "       [-1.62580285,  0.60056127,  0.41190006],\n",
              "       [ 0.80576177,  1.14118018, -0.46391578],\n",
              "       [ 0.80576177, -0.09452019, -0.12531819],\n",
              "       [ 0.80576177,  0.05994235, -0.47995459],\n",
              "       [-0.41002054,  0.52332999, -0.36768297],\n",
              "       [-1.62580285, -1.02129548,  0.14555873],\n",
              "       [-1.62580285,  0.98671764,  0.40128918],\n",
              "       [ 0.80576177, -0.09452019, -0.46820835],\n",
              "       [-0.41002054, -0.17175147, -0.36768297],\n",
              "       [-1.62580285,  1.372874  ,  0.39051499],\n",
              "       [ 0.80576177, -0.40344529, -0.46691358],\n",
              "       [-1.62580285,  0.36886745, -0.10425778],\n",
              "       [ 0.80576177, -0.78960166, -0.46772233],\n",
              "       [ 0.80576177, -0.71237038, -0.44107264],\n",
              "       [ 0.80576177, -0.09452019, -0.33852151],\n",
              "       [ 0.80576177, -1.48468312, -0.07801247],\n",
              "       [-1.62580285,  0.83225509, -0.08149629],\n",
              "       [-0.41002054,  0.13717363, -0.36768297],\n",
              "       [ 0.80576177, -1.94807076, -0.07801247],\n",
              "       [ 0.80576177,  0.13717363, -0.46772233],\n",
              "       [ 0.80576177, -0.78960166, -0.46691358],\n",
              "       [ 0.80576177, -0.55790784, -0.46974808],\n",
              "       [-1.62580285, -0.09452019, -0.02365939],\n",
              "       [ 0.80576177, -0.09452019, -0.47363627],\n",
              "       [ 0.80576177, -0.86683293, -0.46391578],\n",
              "       [ 0.80576177, -0.17175147, -0.3394119 ],\n",
              "       [-1.62580285, -0.09452019,  0.06973893],\n",
              "       [ 0.80576177, -0.09452019, -0.46974808],\n",
              "       [-1.62580285,  0.05994235, -0.01774545],\n",
              "       [ 0.80576177, -0.09452019, -0.46691358],\n",
              "       [-0.41002054, -0.63513911,  0.80849591],\n",
              "       [ 0.80576177, -0.01728892, -0.48343841],\n",
              "       [ 0.80576177, -0.09452019, -0.46391578],\n",
              "       [ 0.80576177, -0.09452019, -0.46974808],\n",
              "       [ 0.80576177,  1.21841146, -0.3394119 ],\n",
              "       [ 0.80576177, -1.02129548,  0.04786783],\n",
              "       [ 0.80576177, -0.78960166, -0.46181033],\n",
              "       [ 0.80576177, -0.48067656, -0.44107264],\n",
              "       [ 0.80576177, -0.40344529, -0.48335676],\n",
              "       [-1.62580285,  2.22241801,  1.58176062],\n",
              "       [ 0.80576177, -1.87083949, -0.24601552],\n",
              "       [-1.62580285,  1.75903037,  1.19731538],\n",
              "       [ 0.80576177,  0.83225509, -0.07801247],\n",
              "       [-1.62580285, -1.40745185,  1.71250117],\n",
              "       [ 0.80576177,  2.76303693, -0.46974808],\n",
              "       [-1.62580285, -0.86683293,  0.9280579 ],\n",
              "       [-0.41002054,  0.2144049 , -0.4162854 ],\n",
              "       [-1.62580285,  1.60456783,  4.19162962],\n",
              "       [-0.41002054,  0.44609872, -0.21215518],\n",
              "       [ 0.80576177, -0.78960166, -0.4672363 ],\n",
              "       [ 0.80576177, -0.63513911, -0.46926205],\n",
              "       [-0.41002054, -1.2529893 , -0.24131664],\n",
              "       [-0.41002054, -0.09452019, -0.11495032],\n",
              "       [-1.62580285, -0.09452019, -0.11640839],\n",
              "       [ 0.80576177, -0.09452019, -0.46974808],\n",
              "       [-0.41002054,  2.14518674, -0.4162854 ],\n",
              "       [-0.41002054, -0.63513911,  0.80849591],\n",
              "       [ 0.80576177, -0.01728892, -0.46731796],\n",
              "       [ 0.80576177, -0.9440642 , -0.47987294],\n",
              "       [-1.62580285,  1.75903037,  0.9011652 ],\n",
              "       [-0.41002054, -0.24898274, -0.11495032],\n",
              "       [-1.62580285, -0.86683293,  4.48040973],\n",
              "       [-1.62580285, -0.24898274, -0.03718642],\n",
              "       [-1.62580285,  0.75502382,  0.99626266],\n",
              "       [ 0.80576177, -0.48067656, -0.46772233],\n",
              "       [ 0.80576177,  0.52332999, -0.31810849],\n",
              "       [ 0.80576177,  0.09855799, -0.46974808],\n",
              "       [-1.62580285, -0.55790784,  0.34191255],\n",
              "       [-0.41002054,  0.67779254, -0.36768297],\n",
              "       [ 0.80576177,  0.90948636, -0.22746495],\n",
              "       [ 0.80576177, -1.02129548,  0.15114801],\n",
              "       [-0.41002054, -0.01728892, -0.4162854 ],\n",
              "       [-1.62580285,  0.83225509,  1.99439528],\n",
              "       [ 0.80576177, -0.09452019, -0.46999109],\n",
              "       [-1.62580285,  2.06795547, -0.02365939],\n",
              "       [-1.62580285,  3.22642457,  0.34199421],\n",
              "       [-1.62580285,  0.13717363,  1.58176062],\n",
              "       [-1.62580285,  0.05994235,  0.48634343],\n",
              "       [-1.62580285,  0.67779254, -0.62041562],\n",
              "       [ 0.80576177, -0.09452019, -0.47946856],\n",
              "       [ 0.80576177, -1.56191439, -0.22138964],\n",
              "       [ 0.80576177, -1.56191439, -0.01239918],\n",
              "       [-1.62580285,  2.45411184,  0.00793219],\n",
              "       [ 0.80576177, -0.09452019, -0.47015245],\n",
              "       [ 0.80576177, -0.09452019, -0.46691358],\n",
              "       [ 0.80576177, -0.09452019, -0.46772233],\n",
              "       [-1.62580285,  1.45010528,  0.39051499],\n",
              "       [ 0.80576177,  1.21841146, -0.46391578],\n",
              "       [-0.41002054,  0.52332999, -0.36768297],\n",
              "       [ 0.80576177, -0.17175147, -0.46691358],\n",
              "       [-1.62580285,  2.68580566, -0.11495032],\n",
              "       [ 0.80576177,  0.44609872, -0.48189869],\n",
              "       [-1.62580285, -0.78960166,  1.15025267],\n",
              "       [ 0.80576177,  0.67779254, -0.48335676],\n",
              "       [ 0.80576177,  0.09855799, -0.46391578],\n",
              "       [ 0.80576177, -0.32621401, -0.46926205],\n",
              "       [-0.41002054,  0.83225509,  0.13778234],\n",
              "       [-1.62580285,  1.372874  ,  0.12806185],\n",
              "       [ 0.80576177,  0.05994235, -0.43572637],\n",
              "       [-1.62580285,  0.83225509, -0.01774545],\n",
              "       [-1.62580285, -0.09452019,  0.39051499],\n",
              "       [ 0.80576177, -0.67375475, -0.47946856],\n",
              "       [-1.62580285, -0.09452019,  1.11185675],\n",
              "       [-1.62580285,  0.52332999, -0.10936104],\n",
              "       [-1.62580285, -0.09452019,  3.69118787],\n",
              "       [ 0.80576177, -0.71237038, -0.42900369],\n",
              "       [-1.62580285,  3.22642457,  0.05329575],\n",
              "       [-0.41002054,  0.52332999, -0.37011309],\n",
              "       [-0.41002054, -0.55790784, -0.0566274 ],\n",
              "       [ 0.80576177,  1.45010528,  0.04786783],\n",
              "       [-0.41002054, -0.48067656, -0.39684443],\n",
              "       [-1.62580285,  0.2144049 ,  0.86276928],\n",
              "       [-1.62580285,  2.60857438,  0.8951696 ],\n",
              "       [-0.41002054, -2.1928939 , -0.0566274 ],\n",
              "       [ 0.80576177, -0.32621401, -0.47946856],\n",
              "       [-1.62580285,  0.44609872, -0.10425778],\n",
              "       [-1.62580285,  1.52733655, -0.11632674],\n",
              "       [-1.62580285, -0.40344529,  0.91930946],\n",
              "       [ 0.80576177, -0.09452019, -0.3393322 ],\n",
              "       [ 0.80576177, -0.63513911, -0.46391578],\n",
              "       [ 0.80576177, -0.09452019, -0.4672363 ],\n",
              "       [ 0.80576177, -0.09452019, -0.32402243],\n",
              "       [-0.41002054, -0.09452019, -0.62041562],\n",
              "       [ 0.80576177, -1.87083949, -0.37788948],\n",
              "       [-1.62580285,  1.52733655,  0.48634343],\n",
              "       [ 0.80576177, -1.09852675, -0.3394119 ],\n",
              "       [-1.62580285, -0.09452019,  1.53526365],\n",
              "       [ 0.80576177, -0.01728892, -0.46926205],\n",
              "       [ 0.80576177,  0.98671764, -0.47363627],\n",
              "       [ 0.80576177, -0.86683293, -0.2743663 ],\n",
              "       [ 0.80576177, -0.63513911, -0.45646406],\n",
              "       [-0.41002054,  1.14118018, -0.11495032],\n",
              "       [-0.41002054, -0.09452019, -0.36768297],\n",
              "       [-0.41002054,  0.60056127, -0.11495032],\n",
              "       [ 0.80576177,  0.75502382, -0.05419727],\n",
              "       [-0.41002054,  0.36886745,  0.01141601],\n",
              "       [-0.41002054,  0.05994235, -0.36768297],\n",
              "       [-0.41002054,  2.8402682 , -0.4162854 ],\n",
              "       [-1.62580285, -0.09452019,  2.22809133],\n",
              "       [ 0.80576177,  1.06394891, -0.46391578],\n",
              "       [ 0.80576177, -0.09452019, -0.45103614],\n",
              "       [ 0.80576177, -0.40344529, -0.47468997],\n",
              "       [ 0.80576177, -0.86683293, -0.46885768],\n",
              "       [ 0.80576177, -0.09452019, -0.15091612],\n",
              "       [ 0.80576177, -0.09452019, -0.46391578],\n",
              "       [ 0.80576177, -0.09452019, -0.48335676],\n",
              "       [ 0.80576177, -0.09452019,  0.47791772],\n",
              "       [ 0.80576177, -0.09452019, -0.46901904],\n",
              "       [-0.41002054,  0.52332999, -0.11495032],\n",
              "       [ 0.80576177,  0.2144049 , -0.31908053],\n",
              "       [ 0.80576177, -0.44206093, -0.47987294],\n",
              "       [-1.62580285, -0.09452019, -0.10425778],\n",
              "       [-0.41002054,  0.75502382, -0.36768297],\n",
              "       [-1.62580285, -0.09452019,  0.9770647 ],\n",
              "       [ 0.80576177, -0.09452019, -0.45597804],\n",
              "       [-1.62580285,  2.76303693,  0.58452035],\n",
              "       [-0.41002054, -0.48067656, -0.4162854 ],\n",
              "       [-1.62580285, -0.09452019,  0.38784185],\n",
              "       [ 0.80576177, -0.55790784, -0.46691358],\n",
              "       [ 0.80576177,  0.44609872, -0.48335676],\n",
              "       [-1.62580285, -0.48067656,  0.61133139],\n",
              "       [-0.41002054, -0.86683293, -0.36768297],\n",
              "       [-1.62580285,  0.52332999, -0.10741694],\n",
              "       [ 0.80576177, -1.56191439, -0.32402243],\n",
              "       [ 0.80576177, -0.9440642 , -0.48189869],\n",
              "       [ 0.80576177, -0.09452019, -0.47995459],\n",
              "       [ 0.80576177,  0.67779254, -0.01021207],\n",
              "       [-0.41002054, -0.9440642 , -0.4162854 ],\n",
              "       [ 0.80576177, -1.94807076, -0.29575137],\n",
              "       [-1.62580285,  1.25702709, -0.06634788],\n",
              "       [-0.41002054, -0.48067656, -0.36768297],\n",
              "       [ 0.80576177,  0.2144049 , -0.46634591],\n",
              "       [ 0.80576177, -0.24898274, -0.46772233],\n",
              "       [ 0.80576177, -1.79360821, -0.01239918],\n",
              "       [-1.62580285, -0.40344529,  4.19162962],\n",
              "       [-1.62580285,  1.21841146, -0.10425778],\n",
              "       [-0.41002054, -0.01728892, -0.08149629],\n",
              "       [ 0.80576177, -0.09452019, -0.46691358],\n",
              "       [-1.62580285, -0.09452019,  0.06973893],\n",
              "       [-0.41002054,  0.98671764, -0.36768297],\n",
              "       [ 0.80576177,  0.52332999, -0.15091612],\n",
              "       [-0.41002054,  0.29163617, -0.38177767],\n",
              "       [ 0.80576177, -0.9440642 , -0.48327511],\n",
              "       [ 0.80576177, -0.01728892, -0.43572637],\n",
              "       [-0.41002054,  1.60456783, -0.11495032],\n",
              "       [-1.62580285,  0.44609872,  1.12927197],\n",
              "       [-1.62580285,  0.67779254,  3.80289181],\n",
              "       [-0.41002054,  0.36886745, -0.36768297],\n",
              "       [-1.62580285, -0.9440642 ,  0.48771985],\n",
              "       [ 0.80576177, -1.40745185, -0.01239918],\n",
              "       [ 0.80576177,  2.45411184, -0.49915255],\n",
              "       [ 0.80576177,  0.05994235, -0.45200819],\n",
              "       [-0.41002054, -1.71637694, -0.11009007],\n",
              "       [ 0.80576177,  2.60857438, -0.43402529],\n",
              "       [ 0.80576177, -0.71237038, -0.47987294],\n",
              "       [ 0.80576177, -0.09452019, -0.18574851],\n",
              "       [ 0.80576177, -0.01728892, -0.43605104],\n",
              "       [-1.62580285,  0.52332999,  1.71250117],\n",
              "       [ 0.80576177, -0.09452019, -0.3393322 ],\n",
              "       [ 0.80576177,  1.60456783, -0.46391578],\n",
              "       [-1.62580285, -0.17175147,  3.49135022],\n",
              "       [ 0.80576177,  0.05994235, -0.47946856],\n",
              "       [-1.62580285,  0.29163617,  1.12927197],\n",
              "       [ 0.80576177, -0.09452019, -0.4702341 ],\n",
              "       [ 0.80576177, -0.09452019, -0.12531819],\n",
              "       [ 0.80576177, -2.10253331, -0.21069711],\n",
              "       [-0.41002054, -0.32621401, -0.03718642],\n",
              "       [-1.62580285,  1.6817991 ,  0.57285576],\n",
              "       [-0.41002054, -0.32621401, -0.11495032],\n",
              "       [ 0.80576177, -0.09452019, -0.47946856],\n",
              "       [ 0.80576177, -0.09452019, -0.46691358],\n",
              "       [-0.41002054, -0.40344529, -0.36768297],\n",
              "       [ 0.80576177, -0.86683293, -0.22746495],\n",
              "       [-1.62580285, -0.09452019, -0.02746594],\n",
              "       [ 0.80576177, -0.32621401, -0.48335676],\n",
              "       [-0.41002054, -0.40344529, -0.33852151],\n",
              "       [ 0.80576177, -0.55790784, -0.47420395],\n",
              "       [-1.62580285, -2.18594308,  2.32586387],\n",
              "       [-0.41002054, -0.40344529, -0.11495032],\n",
              "       [ 0.80576177, -0.24898274, -0.46634591],\n",
              "       [-0.41002054,  0.36886745, -0.21215518],\n",
              "       [-1.62580285, -0.63513911,  4.48040973],\n",
              "       [ 0.80576177, -0.09452019, -0.46974808],\n",
              "       [ 0.80576177, -0.09452019, -0.47987294],\n",
              "       [ 0.80576177, -0.09452019, -0.45200819],\n",
              "       [ 0.80576177, -0.55790784, -0.46926205],\n",
              "       [-1.62580285,  2.53134311,  0.93486224],\n",
              "       [ 0.80576177, -0.86683293, -0.42908339],\n",
              "       [-1.62580285,  0.98671764,  3.80289181],\n",
              "       [-0.41002054,  2.14518674, -0.3803196 ],\n",
              "       [ 0.80576177, -0.78960166, -0.62041562],\n",
              "       [-0.41002054,  0.98671764, -0.11495032],\n",
              "       [ 0.80576177, -0.09452019, -0.47995459],\n",
              "       [ 0.80576177, -0.71237038, -0.45200819],\n",
              "       [ 0.80576177,  0.40748308, -0.49526435],\n",
              "       [ 0.80576177, -0.09452019, -0.43572637],\n",
              "       [ 0.80576177, -0.09452019, -0.46391578],\n",
              "       [ 0.80576177, -0.48067656, -0.46691358],\n",
              "       [ 0.80576177, -0.55790784, -0.47946856],\n",
              "       [-1.62580285,  1.75903037, -0.02746594],\n",
              "       [ 0.80576177,  0.05994235, -0.37788948],\n",
              "       [-0.41002054,  0.56194563, -0.11495032],\n",
              "       [ 0.80576177, -0.09452019, -0.46974808],\n",
              "       [ 0.80576177, -0.55790784, -0.47987294],\n",
              "       [-1.62580285,  1.60456783,  1.97787045],\n",
              "       [ 0.80576177, -0.17175147, -0.48481483],\n",
              "       [ 0.80576177, -0.55790784, -0.46391578],\n",
              "       [-1.62580285,  1.6817991 ,  0.8951696 ],\n",
              "       [-0.41002054,  0.52332999, -0.4162854 ],\n",
              "       [-0.41002054, -0.01728892, -0.11495032],\n",
              "       [-1.62580285, -0.55790784,  2.32586387],\n",
              "       [-1.62580285,  1.60456783,  1.44858996],\n",
              "       [-0.41002054,  0.83225509, -0.36768297],\n",
              "       [ 0.80576177, -0.17175147, -0.45200819],\n",
              "       [-1.62580285, -0.09452019, -0.62041562],\n",
              "       [-1.62580285,  2.76303693, -0.10425778],\n",
              "       [ 0.80576177, -0.9440642 , -0.45200819],\n",
              "       [-1.62580285, -0.09452019, -0.10425778],\n",
              "       [-1.62580285, -1.94807076,  0.9709894 ],\n",
              "       [ 0.80576177, -0.09452019, -0.46691358],\n",
              "       [ 0.80576177, -2.17976458, -0.40397343],\n",
              "       [-0.41002054,  0.52332999, -0.08092861],\n",
              "       [-0.41002054,  1.06394891, -0.11009007],\n",
              "       [-1.62580285,  0.67779254,  2.36304473],\n",
              "       [-0.41002054,  0.13717363, -0.11009007],\n",
              "       [ 0.80576177, -0.01728892, -0.46391578],\n",
              "       [ 0.80576177, -0.86683293, -0.45905554],\n",
              "       [-0.41002054, -0.09452019, -0.32782897],\n",
              "       [-1.62580285,  0.75502382,  1.53526365],\n",
              "       [-0.41002054,  0.75502382, -0.36768297],\n",
              "       [ 0.80576177, -0.24898274, -0.45200819],\n",
              "       [ 0.80576177, -0.71237038, -0.48335676],\n",
              "       [-1.62580285, -0.09452019,  1.97787045],\n",
              "       [ 0.80576177,  1.52733655, -0.62041562],\n",
              "       [-0.41002054, -0.48067656, -0.32791062],\n",
              "       [ 0.80576177, -2.17976458,  0.15114801],\n",
              "       [ 0.80576177, -0.09452019, -0.4672363 ],\n",
              "       [ 0.80576177, -0.09452019, -0.1645248 ],\n",
              "       [-0.41002054, -2.02530203, -0.11495032],\n",
              "       [ 0.80576177, -1.94807076, -0.40397343],\n",
              "       [ 0.80576177, -0.78960166, -0.47169217],\n",
              "       [ 0.80576177,  0.87087073, -0.46974808],\n",
              "       [ 0.80576177, -2.17976458, -0.31438165],\n",
              "       [ 0.80576177, -0.09452019, -0.32402243],\n",
              "       [ 0.80576177, -0.63513911, -0.46634591]])"
            ]
          },
          "metadata": {},
          "execution_count": 12
        }
      ],
      "source": [
        "X_test_scaled"
      ]
    },
    {
      "cell_type": "code",
      "execution_count": null,
      "metadata": {
        "id": "cfGluaaFmLyg"
      },
      "outputs": [],
      "source": [
        "### Model Building\n",
        "## fit() for training and predict for test"
      ]
    },
    {
      "cell_type": "code",
      "execution_count": 13,
      "metadata": {
        "id": "kjh_CJdHmLyg"
      },
      "outputs": [],
      "source": [
        "from sklearn.linear_model import LogisticRegression\n",
        "classification=LogisticRegression()"
      ]
    },
    {
      "cell_type": "code",
      "execution_count": 14,
      "metadata": {
        "colab": {
          "base_uri": "https://localhost:8080/"
        },
        "id": "MCuhp3RtmLyh",
        "outputId": "573ca1f8-b22d-47d2-e01a-c40310e27430"
      },
      "outputs": [
        {
          "output_type": "execute_result",
          "data": {
            "text/plain": [
              "LogisticRegression()"
            ]
          },
          "metadata": {},
          "execution_count": 14
        }
      ],
      "source": [
        "classification.fit(X_train_scaled,y_train)"
      ]
    },
    {
      "cell_type": "code",
      "execution_count": 15,
      "metadata": {
        "colab": {
          "base_uri": "https://localhost:8080/"
        },
        "id": "H0r2PCwqmLyh",
        "outputId": "d3d4179a-ffee-49e4-fdbd-bb8e8def4889"
      },
      "outputs": [
        {
          "output_type": "execute_result",
          "data": {
            "text/plain": [
              "array([0, 0, 0, 1, 0, 1, 0, 0, 0, 1, 1, 0, 0, 0, 0, 1, 1, 0, 0, 1, 0, 1,\n",
              "       0, 0, 0, 0, 1, 0, 0, 0, 0, 0, 1, 0, 0, 0, 1, 0, 1, 0, 1, 0, 0, 0,\n",
              "       0, 0, 0, 0, 0, 1, 0, 1, 0, 1, 0, 1, 0, 1, 0, 0, 0, 1, 0, 1, 0, 0,\n",
              "       1, 0, 0, 1, 0, 1, 1, 1, 0, 0, 0, 1, 0, 0, 0, 0, 1, 0, 0, 0, 1, 1,\n",
              "       1, 0, 0, 0, 0, 0, 0, 0, 1, 0, 0, 0, 0, 0, 1, 0, 0, 0, 0, 1, 0, 1,\n",
              "       1, 0, 1, 1, 1, 0, 0, 0, 0, 0, 0, 1, 0, 1, 0, 1, 0, 1, 0, 0, 0, 0,\n",
              "       0, 0, 1, 0, 1, 0, 0, 0, 0, 0, 0, 0, 0, 0, 0, 0, 1, 0, 0, 0, 0, 0,\n",
              "       0, 0, 0, 0, 0, 0, 0, 1, 0, 1, 0, 0, 0, 1, 0, 0, 1, 0, 1, 0, 0, 0,\n",
              "       0, 0, 0, 1, 0, 0, 0, 0, 1, 1, 0, 0, 1, 0, 0, 0, 0, 0, 0, 1, 1, 0,\n",
              "       1, 0, 0, 0, 1, 0, 0, 0, 0, 1, 0, 0, 1, 0, 1, 0, 0, 0, 0, 1, 0, 0,\n",
              "       0, 0, 0, 1, 0, 0, 0, 1, 0, 0, 0, 1, 0, 0, 0, 0, 0, 0, 1, 0, 0, 0,\n",
              "       0, 0, 0, 0, 0, 0, 0, 0, 0, 0, 0, 0, 1, 0, 0, 1, 0, 0, 1, 1, 0, 0,\n",
              "       1, 0, 0, 1, 1, 0, 0, 0, 0, 1, 0, 0, 0, 0, 1, 0, 0, 0, 1, 0, 0, 0,\n",
              "       0, 0, 1, 0, 0, 0, 0, 0, 0])"
            ]
          },
          "metadata": {},
          "execution_count": 15
        }
      ],
      "source": [
        "classification.predict(X_test_scaled)"
      ]
    },
    {
      "cell_type": "code",
      "execution_count": null,
      "metadata": {
        "id": "nookvYCJmLyi"
      },
      "outputs": [],
      "source": [
        ""
      ]
    },
    {
      "cell_type": "markdown",
      "metadata": {
        "id": "4Pm1TYdSmLym"
      },
      "source": [
        "##### Min Max Scaling  (### CNN)---Deep Learning Techniques\n",
        "Min Max Scaling scales the values between 0 to 1.\n",
        "X_scaled = (X - X.min / (X.max - X.min)"
      ]
    },
    {
      "cell_type": "code",
      "execution_count": 18,
      "metadata": {
        "id": "CG6YGefwmLym"
      },
      "outputs": [],
      "source": [
        "from sklearn.model_selection import train_test_split\n",
        "X_train, X_test, y_train, y_test = train_test_split(X, y, test_size=0.33, random_state=42)"
      ]
    },
    {
      "cell_type": "code",
      "execution_count": 19,
      "metadata": {
        "colab": {
          "base_uri": "https://localhost:8080/",
          "height": 206
        },
        "id": "BCL-28nimLyn",
        "outputId": "7c7fb49e-f0e7-40e3-d338-f8b3b74a11a3"
      },
      "outputs": [
        {
          "output_type": "execute_result",
          "data": {
            "text/html": [
              "\n",
              "  <div id=\"df-349a938b-9aa5-405e-bbc9-32b1ab20649e\">\n",
              "    <div class=\"colab-df-container\">\n",
              "      <div>\n",
              "<style scoped>\n",
              "    .dataframe tbody tr th:only-of-type {\n",
              "        vertical-align: middle;\n",
              "    }\n",
              "\n",
              "    .dataframe tbody tr th {\n",
              "        vertical-align: top;\n",
              "    }\n",
              "\n",
              "    .dataframe thead th {\n",
              "        text-align: right;\n",
              "    }\n",
              "</style>\n",
              "<table border=\"1\" class=\"dataframe\">\n",
              "  <thead>\n",
              "    <tr style=\"text-align: right;\">\n",
              "      <th></th>\n",
              "      <th>0</th>\n",
              "      <th>1</th>\n",
              "      <th>2</th>\n",
              "    </tr>\n",
              "  </thead>\n",
              "  <tbody>\n",
              "    <tr>\n",
              "      <th>0</th>\n",
              "      <td>0.0</td>\n",
              "      <td>0.673285</td>\n",
              "      <td>0.101229</td>\n",
              "    </tr>\n",
              "    <tr>\n",
              "      <th>1</th>\n",
              "      <td>1.0</td>\n",
              "      <td>0.346569</td>\n",
              "      <td>0.030254</td>\n",
              "    </tr>\n",
              "    <tr>\n",
              "      <th>2</th>\n",
              "      <td>0.5</td>\n",
              "      <td>0.308872</td>\n",
              "      <td>0.081157</td>\n",
              "    </tr>\n",
              "    <tr>\n",
              "      <th>3</th>\n",
              "      <td>1.0</td>\n",
              "      <td>0.321438</td>\n",
              "      <td>0.028213</td>\n",
              "    </tr>\n",
              "    <tr>\n",
              "      <th>4</th>\n",
              "      <td>1.0</td>\n",
              "      <td>0.271174</td>\n",
              "      <td>0.020527</td>\n",
              "    </tr>\n",
              "  </tbody>\n",
              "</table>\n",
              "</div>\n",
              "      <button class=\"colab-df-convert\" onclick=\"convertToInteractive('df-349a938b-9aa5-405e-bbc9-32b1ab20649e')\"\n",
              "              title=\"Convert this dataframe to an interactive table.\"\n",
              "              style=\"display:none;\">\n",
              "        \n",
              "  <svg xmlns=\"http://www.w3.org/2000/svg\" height=\"24px\"viewBox=\"0 0 24 24\"\n",
              "       width=\"24px\">\n",
              "    <path d=\"M0 0h24v24H0V0z\" fill=\"none\"/>\n",
              "    <path d=\"M18.56 5.44l.94 2.06.94-2.06 2.06-.94-2.06-.94-.94-2.06-.94 2.06-2.06.94zm-11 1L8.5 8.5l.94-2.06 2.06-.94-2.06-.94L8.5 2.5l-.94 2.06-2.06.94zm10 10l.94 2.06.94-2.06 2.06-.94-2.06-.94-.94-2.06-.94 2.06-2.06.94z\"/><path d=\"M17.41 7.96l-1.37-1.37c-.4-.4-.92-.59-1.43-.59-.52 0-1.04.2-1.43.59L10.3 9.45l-7.72 7.72c-.78.78-.78 2.05 0 2.83L4 21.41c.39.39.9.59 1.41.59.51 0 1.02-.2 1.41-.59l7.78-7.78 2.81-2.81c.8-.78.8-2.07 0-2.86zM5.41 20L4 18.59l7.72-7.72 1.47 1.35L5.41 20z\"/>\n",
              "  </svg>\n",
              "      </button>\n",
              "      \n",
              "  <style>\n",
              "    .colab-df-container {\n",
              "      display:flex;\n",
              "      flex-wrap:wrap;\n",
              "      gap: 12px;\n",
              "    }\n",
              "\n",
              "    .colab-df-convert {\n",
              "      background-color: #E8F0FE;\n",
              "      border: none;\n",
              "      border-radius: 50%;\n",
              "      cursor: pointer;\n",
              "      display: none;\n",
              "      fill: #1967D2;\n",
              "      height: 32px;\n",
              "      padding: 0 0 0 0;\n",
              "      width: 32px;\n",
              "    }\n",
              "\n",
              "    .colab-df-convert:hover {\n",
              "      background-color: #E2EBFA;\n",
              "      box-shadow: 0px 1px 2px rgba(60, 64, 67, 0.3), 0px 1px 3px 1px rgba(60, 64, 67, 0.15);\n",
              "      fill: #174EA6;\n",
              "    }\n",
              "\n",
              "    [theme=dark] .colab-df-convert {\n",
              "      background-color: #3B4455;\n",
              "      fill: #D2E3FC;\n",
              "    }\n",
              "\n",
              "    [theme=dark] .colab-df-convert:hover {\n",
              "      background-color: #434B5C;\n",
              "      box-shadow: 0px 1px 3px 1px rgba(0, 0, 0, 0.15);\n",
              "      filter: drop-shadow(0px 1px 2px rgba(0, 0, 0, 0.3));\n",
              "      fill: #FFFFFF;\n",
              "    }\n",
              "  </style>\n",
              "\n",
              "      <script>\n",
              "        const buttonEl =\n",
              "          document.querySelector('#df-349a938b-9aa5-405e-bbc9-32b1ab20649e button.colab-df-convert');\n",
              "        buttonEl.style.display =\n",
              "          google.colab.kernel.accessAllowed ? 'block' : 'none';\n",
              "\n",
              "        async function convertToInteractive(key) {\n",
              "          const element = document.querySelector('#df-349a938b-9aa5-405e-bbc9-32b1ab20649e');\n",
              "          const dataTable =\n",
              "            await google.colab.kernel.invokeFunction('convertToInteractive',\n",
              "                                                     [key], {});\n",
              "          if (!dataTable) return;\n",
              "\n",
              "          const docLinkHtml = 'Like what you see? Visit the ' +\n",
              "            '<a target=\"_blank\" href=https://colab.research.google.com/notebooks/data_table.ipynb>data table notebook</a>'\n",
              "            + ' to learn more about interactive tables.';\n",
              "          element.innerHTML = '';\n",
              "          dataTable['output_type'] = 'display_data';\n",
              "          await google.colab.output.renderOutput(dataTable, element);\n",
              "          const docLink = document.createElement('div');\n",
              "          docLink.innerHTML = docLinkHtml;\n",
              "          element.appendChild(docLink);\n",
              "        }\n",
              "      </script>\n",
              "    </div>\n",
              "  </div>\n",
              "  "
            ],
            "text/plain": [
              "     0         1         2\n",
              "0  0.0  0.673285  0.101229\n",
              "1  1.0  0.346569  0.030254\n",
              "2  0.5  0.308872  0.081157\n",
              "3  1.0  0.321438  0.028213\n",
              "4  1.0  0.271174  0.020527"
            ]
          },
          "metadata": {},
          "execution_count": 19
        }
      ],
      "source": [
        "from sklearn.preprocessing import MinMaxScaler\n",
        "min_max=MinMaxScaler()\n",
        "df_minmax=pd.DataFrame(min_max.fit_transform(X_train))\n",
        "df_minmax.head()"
      ]
    },
    {
      "cell_type": "code",
      "execution_count": 22,
      "metadata": {
        "colab": {
          "base_uri": "https://localhost:8080/",
          "height": 567
        },
        "id": "_8aj5ldfmLyn",
        "outputId": "e40567a9-a281-45e1-d3bb-511f2c193ddf"
      },
      "outputs": [
        {
          "output_type": "execute_result",
          "data": {
            "text/plain": [
              "<seaborn.axisgrid.PairGrid at 0x7f3f10687190>"
            ]
          },
          "metadata": {},
          "execution_count": 22
        },
        {
          "output_type": "display_data",
          "data": {
            "image/png": "[encoded data removed]",
            "text/plain": [
              "<Figure size 540x540 with 12 Axes>"
            ]
          },
          "metadata": {
            "needs_background": "light"
          }
        }
      ],
      "source": [
        "import matplotlib.pyplot as plt\n",
        "import seaborn as sns\n",
        "sns.pairplot(df_minmax)"
      ]
    },
    {
      "cell_type": "code",
      "execution_count": 24,
      "metadata": {
        "colab": {
          "base_uri": "https://localhost:8080/",
          "height": 352
        },
        "id": "KImg5SV1mLyn",
        "outputId": "c93cefb1-a744-4309-d7e5-f83a6e41ead8"
      },
      "outputs": [
        {
          "output_type": "execute_result",
          "data": {
            "text/plain": [
              "(array([ 29.,   9.,   9.,  23.,  50.,  63., 180.,  56.,  50.,  25.,  24.,\n",
              "         27.,  16.,  15.,  10.,   5.,   0.,   3.,   1.,   1.]),\n",
              " array([0.  , 0.05, 0.1 , 0.15, 0.2 , 0.25, 0.3 , 0.35, 0.4 , 0.45, 0.5 ,\n",
              "        0.55, 0.6 , 0.65, 0.7 , 0.75, 0.8 , 0.85, 0.9 , 0.95, 1.  ]),\n",
              " <a list of 20 Patch objects>)"
            ]
          },
          "metadata": {},
          "execution_count": 24
        },
        {
          "output_type": "display_data",
          "data": {
            "image/png": "[encoded data removed]",
            "text/plain": [
              "<Figure size 432x288 with 1 Axes>"
            ]
          },
          "metadata": {
            "needs_background": "light"
          }
        }
      ],
      "source": [
        "plt.hist(df_minmax[1],bins=20)"
      ]
    },
    {
      "cell_type": "code",
      "execution_count": 25,
      "metadata": {
        "colab": {
          "base_uri": "https://localhost:8080/",
          "height": 355
        },
        "id": "QX2PATvPmLyo",
        "outputId": "d769ff9c-56b8-4b68-c651-c4fd32f1ab62"
      },
      "outputs": [
        {
          "output_type": "execute_result",
          "data": {
            "text/plain": [
              "(array([384., 106.,  51.,  24.,   8.,   9.,   2.,   0.,   5.,   0.,   4.,\n",
              "          0.,   0.,   0.,   0.,   0.,   0.,   0.,   0.,   3.]),\n",
              " array([0.  , 0.05, 0.1 , 0.15, 0.2 , 0.25, 0.3 , 0.35, 0.4 , 0.45, 0.5 ,\n",
              "        0.55, 0.6 , 0.65, 0.7 , 0.75, 0.8 , 0.85, 0.9 , 0.95, 1.  ]),\n",
              " <a list of 20 Patch objects>)"
            ]
          },
          "metadata": {},
          "execution_count": 25
        },
        {
          "output_type": "display_data",
          "data": {
            "image/png": "[encoded data removed]",
            "text/plain": [
              "<Figure size 432x288 with 1 Axes>"
            ]
          },
          "metadata": {
            "needs_background": "light"
          }
        }
      ],
      "source": [
        "plt.hist(df_minmax[2],bins=20)"
      ]
    },
    {
      "cell_type": "markdown",
      "metadata": {
        "id": "dsU7MNXcmLyo"
      },
      "source": [
        "##### Robust Scaler\n",
        "Robust Scaler are robust to outliers.It is used to scale the feature to median and quantiles\n",
        "Scaling using median and quantiles consists of substracting the median to all the observations, and then dividing by the interquantile difference. The interquantile difference is the difference between the 75th and 25th quantile:\n",
        "\n",
        "IQR = 75th quantile - 25th quantile\n",
        "\n",
        "X_scaled = (X - X.median) / IQR"
      ]
    },
    {
      "cell_type": "markdown",
      "metadata": {
        "id": "aawYkLzrmLyp"
      },
      "source": [
        "0,1,2,3,4,5,6,7,8,9,10\n",
        "\n",
        "9-90 percentile---90% of all values in this group is less than 9\n",
        "1-10 precentile---10% of all values in this group is less than 1\n",
        "4-40%"
      ]
    },
    {
      "cell_type": "code",
      "execution_count": 28,
      "metadata": {
        "id": "Y6K-TZBCmLyp"
      },
      "outputs": [],
      "source": [
        "from sklearn.model_selection import train_test_split\n",
        "X_train, X_test, y_train, y_test = train_test_split(X, y, test_size=0.33, random_state=42)"
      ]
    },
    {
      "cell_type": "code",
      "execution_count": 29,
      "metadata": {
        "colab": {
          "base_uri": "https://localhost:8080/",
          "height": 206
        },
        "id": "G0zAw7tQmLyp",
        "outputId": "26d058d1-c82f-447f-f80d-4b412a6c273a"
      },
      "outputs": [
        {
          "output_type": "execute_result",
          "data": {
            "text/html": [
              "\n",
              "  <div id=\"df-cff774db-43f3-47b4-98b4-87dbb6729cf2\">\n",
              "    <div class=\"colab-df-container\">\n",
              "      <div>\n",
              "<style scoped>\n",
              "    .dataframe tbody tr th:only-of-type {\n",
              "        vertical-align: middle;\n",
              "    }\n",
              "\n",
              "    .dataframe tbody tr th {\n",
              "        vertical-align: top;\n",
              "    }\n",
              "\n",
              "    .dataframe thead th {\n",
              "        text-align: right;\n",
              "    }\n",
              "</style>\n",
              "<table border=\"1\" class=\"dataframe\">\n",
              "  <thead>\n",
              "    <tr style=\"text-align: right;\">\n",
              "      <th></th>\n",
              "      <th>0</th>\n",
              "      <th>1</th>\n",
              "      <th>2</th>\n",
              "    </tr>\n",
              "  </thead>\n",
              "  <tbody>\n",
              "    <tr>\n",
              "      <th>0</th>\n",
              "      <td>-2.0</td>\n",
              "      <td>2.000000</td>\n",
              "      <td>1.602069</td>\n",
              "    </tr>\n",
              "    <tr>\n",
              "      <th>1</th>\n",
              "      <td>0.0</td>\n",
              "      <td>0.000000</td>\n",
              "      <td>0.044788</td>\n",
              "    </tr>\n",
              "    <tr>\n",
              "      <th>2</th>\n",
              "      <td>-1.0</td>\n",
              "      <td>-0.230769</td>\n",
              "      <td>1.161670</td>\n",
              "    </tr>\n",
              "    <tr>\n",
              "      <th>3</th>\n",
              "      <td>0.0</td>\n",
              "      <td>-0.153846</td>\n",
              "      <td>0.000000</td>\n",
              "    </tr>\n",
              "    <tr>\n",
              "      <th>4</th>\n",
              "      <td>0.0</td>\n",
              "      <td>-0.461538</td>\n",
              "      <td>-0.168630</td>\n",
              "    </tr>\n",
              "  </tbody>\n",
              "</table>\n",
              "</div>\n",
              "      <button class=\"colab-df-convert\" onclick=\"convertToInteractive('df-cff774db-43f3-47b4-98b4-87dbb6729cf2')\"\n",
              "              title=\"Convert this dataframe to an interactive table.\"\n",
              "              style=\"display:none;\">\n",
              "        \n",
              "  <svg xmlns=\"http://www.w3.org/2000/svg\" height=\"24px\"viewBox=\"0 0 24 24\"\n",
              "       width=\"24px\">\n",
              "    <path d=\"M0 0h24v24H0V0z\" fill=\"none\"/>\n",
              "    <path d=\"M18.56 5.44l.94 2.06.94-2.06 2.06-.94-2.06-.94-.94-2.06-.94 2.06-2.06.94zm-11 1L8.5 8.5l.94-2.06 2.06-.94-2.06-.94L8.5 2.5l-.94 2.06-2.06.94zm10 10l.94 2.06.94-2.06 2.06-.94-2.06-.94-.94-2.06-.94 2.06-2.06.94z\"/><path d=\"M17.41 7.96l-1.37-1.37c-.4-.4-.92-.59-1.43-.59-.52 0-1.04.2-1.43.59L10.3 9.45l-7.72 7.72c-.78.78-.78 2.05 0 2.83L4 21.41c.39.39.9.59 1.41.59.51 0 1.02-.2 1.41-.59l7.78-7.78 2.81-2.81c.8-.78.8-2.07 0-2.86zM5.41 20L4 18.59l7.72-7.72 1.47 1.35L5.41 20z\"/>\n",
              "  </svg>\n",
              "      </button>\n",
              "      \n",
              "  <style>\n",
              "    .colab-df-container {\n",
              "      display:flex;\n",
              "      flex-wrap:wrap;\n",
              "      gap: 12px;\n",
              "    }\n",
              "\n",
              "    .colab-df-convert {\n",
              "      background-color: #E8F0FE;\n",
              "      border: none;\n",
              "      border-radius: 50%;\n",
              "      cursor: pointer;\n",
              "      display: none;\n",
              "      fill: #1967D2;\n",
              "      height: 32px;\n",
              "      padding: 0 0 0 0;\n",
              "      width: 32px;\n",
              "    }\n",
              "\n",
              "    .colab-df-convert:hover {\n",
              "      background-color: #E2EBFA;\n",
              "      box-shadow: 0px 1px 2px rgba(60, 64, 67, 0.3), 0px 1px 3px 1px rgba(60, 64, 67, 0.15);\n",
              "      fill: #174EA6;\n",
              "    }\n",
              "\n",
              "    [theme=dark] .colab-df-convert {\n",
              "      background-color: #3B4455;\n",
              "      fill: #D2E3FC;\n",
              "    }\n",
              "\n",
              "    [theme=dark] .colab-df-convert:hover {\n",
              "      background-color: #434B5C;\n",
              "      box-shadow: 0px 1px 3px 1px rgba(0, 0, 0, 0.15);\n",
              "      filter: drop-shadow(0px 1px 2px rgba(0, 0, 0, 0.3));\n",
              "      fill: #FFFFFF;\n",
              "    }\n",
              "  </style>\n",
              "\n",
              "      <script>\n",
              "        const buttonEl =\n",
              "          document.querySelector('#df-cff774db-43f3-47b4-98b4-87dbb6729cf2 button.colab-df-convert');\n",
              "        buttonEl.style.display =\n",
              "          google.colab.kernel.accessAllowed ? 'block' : 'none';\n",
              "\n",
              "        async function convertToInteractive(key) {\n",
              "          const element = document.querySelector('#df-cff774db-43f3-47b4-98b4-87dbb6729cf2');\n",
              "          const dataTable =\n",
              "            await google.colab.kernel.invokeFunction('convertToInteractive',\n",
              "                                                     [key], {});\n",
              "          if (!dataTable) return;\n",
              "\n",
              "          const docLinkHtml = 'Like what you see? Visit the ' +\n",
              "            '<a target=\"_blank\" href=https://colab.research.google.com/notebooks/data_table.ipynb>data table notebook</a>'\n",
              "            + ' to learn more about interactive tables.';\n",
              "          element.innerHTML = '';\n",
              "          dataTable['output_type'] = 'display_data';\n",
              "          await google.colab.output.renderOutput(dataTable, element);\n",
              "          const docLink = document.createElement('div');\n",
              "          docLink.innerHTML = docLinkHtml;\n",
              "          element.appendChild(docLink);\n",
              "        }\n",
              "      </script>\n",
              "    </div>\n",
              "  </div>\n",
              "  "
            ],
            "text/plain": [
              "     0         1         2\n",
              "0 -2.0  2.000000  1.602069\n",
              "1  0.0  0.000000  0.044788\n",
              "2 -1.0 -0.230769  1.161670\n",
              "3  0.0 -0.153846  0.000000\n",
              "4  0.0 -0.461538 -0.168630"
            ]
          },
          "metadata": {},
          "execution_count": 29
        }
      ],
      "source": [
        "from sklearn.preprocessing import RobustScaler\n",
        "scaler=RobustScaler()\n",
        "df_robust_scaler=pd.DataFrame(scaler.fit_transform(X_train))\n",
        "df_robust_scaler.head()"
      ]
    },
    {
      "cell_type": "code",
      "execution_count": 30,
      "metadata": {
        "colab": {
          "base_uri": "https://localhost:8080/"
        },
        "id": "ixzo7noNmLyq",
        "outputId": "50d3ff19-c734-40ca-f0f7-603d5759340e"
      },
      "outputs": [
        {
          "output_type": "execute_result",
          "data": {
            "text/plain": [
              "array([[ 0.00000000e+00,  0.00000000e+00,  3.39014989e-02],\n",
              "       [-1.00000000e+00,  2.30769231e-01, -1.69344754e-01],\n",
              "       [ 0.00000000e+00, -6.15384615e-01, -2.79623126e-01],\n",
              "       [-1.00000000e+00, -1.69230769e+00,  7.94252677e-01],\n",
              "       [ 0.00000000e+00, -1.07692308e+00, -1.37580300e-01],\n",
              "       [-2.00000000e+00, -1.53846154e-01,  2.75785011e+00],\n",
              "       [ 0.00000000e+00,  0.00000000e+00, -2.87117773e-01],\n",
              "       [ 0.00000000e+00, -9.23076923e-01,  1.51854390e-01],\n",
              "       [ 0.00000000e+00, -9.23076923e-01, -2.87117773e-01],\n",
              "       [-2.00000000e+00, -6.92307692e-01,  5.06599572e-01],\n",
              "       [-2.00000000e+00,  6.92307692e-01,  1.65506638e+00],\n",
              "       [ 0.00000000e+00,  1.23076923e+00, -2.74269807e-01],\n",
              "       [ 0.00000000e+00,  0.00000000e+00,  4.71627409e-01],\n",
              "       [ 0.00000000e+00,  1.53846154e-01, -3.09601713e-01],\n",
              "       [-1.00000000e+00,  6.15384615e-01, -6.22783726e-02],\n",
              "       [-2.00000000e+00, -9.23076923e-01,  1.06834261e+00],\n",
              "       [-2.00000000e+00,  1.07692308e+00,  1.63169165e+00],\n",
              "       [ 0.00000000e+00,  0.00000000e+00, -2.83725910e-01],\n",
              "       [-1.00000000e+00, -7.69230769e-02, -6.22783726e-02],\n",
              "       [-2.00000000e+00,  1.46153846e+00,  1.60795717e+00],\n",
              "       [ 0.00000000e+00, -3.07692308e-01, -2.80873662e-01],\n",
              "       [-2.00000000e+00,  4.61538462e-01,  5.18021413e-01],\n",
              "       [ 0.00000000e+00, -6.92307692e-01, -2.82655246e-01],\n",
              "       [ 0.00000000e+00, -6.15384615e-01, -2.23948608e-01],\n",
              "       [ 0.00000000e+00,  0.00000000e+00,  1.96145610e-03],\n",
              "       [ 0.00000000e+00, -1.38461538e+00,  5.75837259e-01],\n",
              "       [-2.00000000e+00,  9.23076923e-01,  5.68162741e-01],\n",
              "       [-1.00000000e+00,  2.30769231e-01, -6.22783726e-02],\n",
              "       [ 0.00000000e+00, -1.84615385e+00,  5.75837259e-01],\n",
              "       [ 0.00000000e+00,  2.30769231e-01, -2.82655246e-01],\n",
              "       [ 0.00000000e+00, -6.92307692e-01, -2.80873662e-01],\n",
              "       [ 0.00000000e+00, -4.61538462e-01, -2.87117773e-01],\n",
              "       [-2.00000000e+00,  0.00000000e+00,  6.95571734e-01],\n",
              "       [ 0.00000000e+00,  0.00000000e+00, -2.95683084e-01],\n",
              "       [ 0.00000000e+00, -7.69230769e-01, -2.74269807e-01],\n",
              "       [ 0.00000000e+00, -7.69230769e-02,  0.00000000e+00],\n",
              "       [-2.00000000e+00,  0.00000000e+00,  9.01319058e-01],\n",
              "       [ 0.00000000e+00,  0.00000000e+00, -2.87117773e-01],\n",
              "       [-2.00000000e+00,  1.53846154e-01,  7.08599572e-01],\n",
              "       [ 0.00000000e+00,  0.00000000e+00, -2.80873662e-01],\n",
              "       [-1.00000000e+00, -5.38461538e-01,  2.52872805e+00],\n",
              "       [ 0.00000000e+00,  7.69230769e-02, -3.17276231e-01],\n",
              "       [ 0.00000000e+00,  0.00000000e+00, -2.74269807e-01],\n",
              "       [ 0.00000000e+00,  0.00000000e+00, -2.87117773e-01],\n",
              "       [ 0.00000000e+00,  1.30769231e+00,  0.00000000e+00],\n",
              "       [ 0.00000000e+00, -9.23076923e-01,  8.53139186e-01],\n",
              "       [ 0.00000000e+00, -6.92307692e-01, -2.69631692e-01],\n",
              "       [ 0.00000000e+00, -3.84615385e-01, -2.23948608e-01],\n",
              "       [ 0.00000000e+00, -3.07692308e-01, -3.17096360e-01],\n",
              "       [-2.00000000e+00,  2.30769231e+00,  4.23215418e+00],\n",
              "       [ 0.00000000e+00, -1.76923077e+00,  2.05743041e-01],\n",
              "       [-2.00000000e+00,  1.84615385e+00,  3.38525910e+00],\n",
              "       [ 0.00000000e+00,  9.23076923e-01,  5.75837259e-01],\n",
              "       [-2.00000000e+00, -1.30769231e+00,  4.52016274e+00],\n",
              "       [ 0.00000000e+00,  2.84615385e+00, -2.87117773e-01],\n",
              "       [-2.00000000e+00, -7.69230769e-01,  2.79211135e+00],\n",
              "       [-1.00000000e+00,  3.07692308e-01, -1.69344754e-01],\n",
              "       [-2.00000000e+00,  1.69230769e+00,  9.98143897e+00],\n",
              "       [-1.00000000e+00,  5.38461538e-01,  2.80334047e-01],\n",
              "       [ 0.00000000e+00, -6.92307692e-01, -2.81584582e-01],\n",
              "       [ 0.00000000e+00, -5.38461538e-01, -2.86047109e-01],\n",
              "       [-1.00000000e+00, -1.15384615e+00,  2.16094218e-01],\n",
              "       [-1.00000000e+00,  0.00000000e+00,  4.94466809e-01],\n",
              "       [-2.00000000e+00,  0.00000000e+00,  4.91254818e-01],\n",
              "       [ 0.00000000e+00,  0.00000000e+00, -2.87117773e-01],\n",
              "       [-1.00000000e+00,  2.23076923e+00, -1.69344754e-01],\n",
              "       [-1.00000000e+00, -5.38461538e-01,  2.52872805e+00],\n",
              "       [ 0.00000000e+00,  7.69230769e-02, -2.81764454e-01],\n",
              "       [ 0.00000000e+00, -8.46153846e-01, -3.09421842e-01],\n",
              "       [-2.00000000e+00,  1.84615385e+00,  2.73286938e+00],\n",
              "       [-1.00000000e+00, -1.53846154e-01,  4.94466809e-01],\n",
              "       [-2.00000000e+00, -7.69230769e-01,  1.06175931e+01],\n",
              "       [-2.00000000e+00, -1.53846154e-01,  6.65773019e-01],\n",
              "       [-2.00000000e+00,  8.46153846e-01,  2.94235974e+00],\n",
              "       [ 0.00000000e+00, -3.84615385e-01, -2.82655246e-01],\n",
              "       [ 0.00000000e+00,  6.15384615e-01,  4.69293362e-02],\n",
              "       [ 0.00000000e+00,  1.92307692e-01, -2.87117773e-01],\n",
              "       [-2.00000000e+00, -4.61538462e-01,  1.50089079e+00],\n",
              "       [-1.00000000e+00,  7.69230769e-01, -6.22783726e-02],\n",
              "       [ 0.00000000e+00,  1.00000000e+00,  2.46608137e-01],\n",
              "       [ 0.00000000e+00, -9.23076923e-01,  1.08065525e+00],\n",
              "       [-1.00000000e+00,  7.69230769e-02, -1.69344754e-01],\n",
              "       [-2.00000000e+00,  9.23076923e-01,  5.14114775e+00],\n",
              "       [ 0.00000000e+00,  0.00000000e+00, -2.87653105e-01],\n",
              "       [-2.00000000e+00,  2.15384615e+00,  6.95571734e-01],\n",
              "       [-2.00000000e+00,  3.30769231e+00,  1.50107066e+00],\n",
              "       [-2.00000000e+00,  2.30769231e-01,  4.23215418e+00],\n",
              "       [-2.00000000e+00,  1.53846154e-01,  1.81905782e+00],\n",
              "       [-2.00000000e+00,  7.69230769e-01, -6.19023555e-01],\n",
              "       [ 0.00000000e+00,  0.00000000e+00, -3.08531049e-01],\n",
              "       [ 0.00000000e+00, -1.46153846e+00,  2.59991435e-01],\n",
              "       [ 0.00000000e+00, -1.46153846e+00,  7.20376874e-01],\n",
              "       [-2.00000000e+00,  2.53846154e+00,  7.65164882e-01],\n",
              "       [ 0.00000000e+00,  0.00000000e+00, -2.88008565e-01],\n",
              "       [ 0.00000000e+00,  0.00000000e+00, -2.80873662e-01],\n",
              "       [ 0.00000000e+00,  0.00000000e+00, -2.82655246e-01],\n",
              "       [-2.00000000e+00,  1.53846154e+00,  1.60795717e+00],\n",
              "       [ 0.00000000e+00,  1.30769231e+00, -2.74269807e-01],\n",
              "       [-1.00000000e+00,  6.15384615e-01, -6.22783726e-02],\n",
              "       [ 0.00000000e+00, -7.69230769e-02, -2.80873662e-01],\n",
              "       [-2.00000000e+00,  2.76923077e+00,  4.94466809e-01],\n",
              "       [ 0.00000000e+00,  5.38461538e-01, -3.13884368e-01],\n",
              "       [-2.00000000e+00, -6.92307692e-01,  3.28158458e+00],\n",
              "       [ 0.00000000e+00,  7.69230769e-01, -3.17096360e-01],\n",
              "       [ 0.00000000e+00,  1.92307692e-01, -2.74269807e-01],\n",
              "       [ 0.00000000e+00, -2.30769231e-01, -2.86047109e-01],\n",
              "       [-1.00000000e+00,  9.23076923e-01,  1.05121199e+00],\n",
              "       [-2.00000000e+00,  1.46153846e+00,  1.02979872e+00],\n",
              "       [ 0.00000000e+00,  1.53846154e-01, -2.12171306e-01],\n",
              "       [-2.00000000e+00,  9.23076923e-01,  7.08599572e-01],\n",
              "       [-2.00000000e+00,  0.00000000e+00,  1.60795717e+00],\n",
              "       [ 0.00000000e+00, -5.76923077e-01, -3.08531049e-01],\n",
              "       [-2.00000000e+00,  0.00000000e+00,  3.19700214e+00],\n",
              "       [-2.00000000e+00,  6.15384615e-01,  5.06779443e-01],\n",
              "       [-2.00000000e+00,  0.00000000e+00,  8.87901499e+00],\n",
              "       [ 0.00000000e+00, -6.15384615e-01, -1.97361884e-01],\n",
              "       [-2.00000000e+00,  3.30769231e+00,  8.65096360e-01],\n",
              "       [-1.00000000e+00,  6.15384615e-01, -6.76316916e-02],\n",
              "       [-1.00000000e+00, -4.61538462e-01,  6.22946467e-01],\n",
              "       [ 0.00000000e+00,  1.53846154e+00,  8.53139186e-01],\n",
              "       [-1.00000000e+00, -3.84615385e-01, -1.26518201e-01],\n",
              "       [-2.00000000e+00,  3.07692308e-01,  2.64828694e+00],\n",
              "       [-2.00000000e+00,  2.69230769e+00,  2.71966167e+00],\n",
              "       [-1.00000000e+00, -2.09000000e+00,  6.22946467e-01],\n",
              "       [ 0.00000000e+00, -2.30769231e-01, -3.08531049e-01],\n",
              "       [-2.00000000e+00,  5.38461538e-01,  5.18021413e-01],\n",
              "       [-2.00000000e+00,  1.61538462e+00,  4.91434690e-01],\n",
              "       [-2.00000000e+00, -3.07692308e-01,  2.77283940e+00],\n",
              "       [ 0.00000000e+00,  0.00000000e+00,  1.75588865e-04],\n",
              "       [ 0.00000000e+00, -5.38461538e-01, -2.74269807e-01],\n",
              "       [ 0.00000000e+00,  0.00000000e+00, -2.81584582e-01],\n",
              "       [ 0.00000000e+00,  0.00000000e+00,  3.39014989e-02],\n",
              "       [-1.00000000e+00,  0.00000000e+00, -6.19023555e-01],\n",
              "       [ 0.00000000e+00, -1.76923077e+00, -8.47623126e-02],\n",
              "       [-2.00000000e+00,  1.61538462e+00,  1.81905782e+00],\n",
              "       [ 0.00000000e+00, -1.00000000e+00,  0.00000000e+00],\n",
              "       [-2.00000000e+00,  0.00000000e+00,  4.12972591e+00],\n",
              "       [ 0.00000000e+00,  7.69230769e-02, -2.86047109e-01],\n",
              "       [ 0.00000000e+00,  1.07692308e+00, -2.95683084e-01],\n",
              "       [ 0.00000000e+00, -7.69230769e-01,  1.43289079e-01],\n",
              "       [ 0.00000000e+00, -5.38461538e-01, -2.57854390e-01],\n",
              "       [-1.00000000e+00,  1.23076923e+00,  4.94466809e-01],\n",
              "       [-1.00000000e+00,  0.00000000e+00, -6.22783726e-02],\n",
              "       [-1.00000000e+00,  6.92307692e-01,  4.94466809e-01],\n",
              "       [ 0.00000000e+00,  8.46153846e-01,  6.28299786e-01],\n",
              "       [-1.00000000e+00,  4.61538462e-01,  7.72839400e-01],\n",
              "       [-1.00000000e+00,  1.53846154e-01, -6.22783726e-02],\n",
              "       [-1.00000000e+00,  2.92307692e+00, -1.69344754e-01],\n",
              "       [-2.00000000e+00,  0.00000000e+00,  5.65595717e+00],\n",
              "       [ 0.00000000e+00,  1.15384615e+00, -2.74269807e-01],\n",
              "       [ 0.00000000e+00,  0.00000000e+00, -2.45897216e-01],\n",
              "       [ 0.00000000e+00, -3.07692308e-01, -2.98004283e-01],\n",
              "       [ 0.00000000e+00, -7.69230769e-01, -2.85156317e-01],\n",
              "       [ 0.00000000e+00,  0.00000000e+00,  4.15237687e-01],\n",
              "       [ 0.00000000e+00,  0.00000000e+00, -2.74269807e-01],\n",
              "       [ 0.00000000e+00,  0.00000000e+00, -3.17096360e-01],\n",
              "       [ 0.00000000e+00,  0.00000000e+00,  1.80049679e+00],\n",
              "       [ 0.00000000e+00,  0.00000000e+00, -2.85511777e-01],\n",
              "       [-1.00000000e+00,  6.15384615e-01,  4.94466809e-01],\n",
              "       [ 0.00000000e+00,  3.07692308e-01,  4.47880086e-02],\n",
              "       [ 0.00000000e+00, -3.46153846e-01, -3.09421842e-01],\n",
              "       [-2.00000000e+00,  0.00000000e+00,  5.18021413e-01],\n",
              "       [-1.00000000e+00,  8.46153846e-01, -6.22783726e-02],\n",
              "       [-2.00000000e+00,  0.00000000e+00,  2.90006852e+00],\n",
              "       [ 0.00000000e+00,  0.00000000e+00, -2.56783726e-01],\n",
              "       [-2.00000000e+00,  2.84615385e+00,  2.03533191e+00],\n",
              "       [-1.00000000e+00, -3.84615385e-01, -1.69344754e-01],\n",
              "       [-2.00000000e+00,  0.00000000e+00,  1.60206852e+00],\n",
              "       [ 0.00000000e+00, -4.61538462e-01, -2.80873662e-01],\n",
              "       [ 0.00000000e+00,  5.38461538e-01, -3.17096360e-01],\n",
              "       [-2.00000000e+00, -3.84615385e-01,  2.09439400e+00],\n",
              "       [-1.00000000e+00, -7.69230769e-01, -6.22783726e-02],\n",
              "       [-2.00000000e+00,  6.15384615e-01,  5.11062099e-01],\n",
              "       [ 0.00000000e+00, -1.46153846e+00,  3.39014989e-02],\n",
              "       [ 0.00000000e+00, -8.46153846e-01, -3.13884368e-01],\n",
              "       [ 0.00000000e+00,  0.00000000e+00, -3.09601713e-01],\n",
              "       [ 0.00000000e+00,  7.69230769e-01,  7.25194861e-01],\n",
              "       [-1.00000000e+00, -8.46153846e-01, -1.69344754e-01],\n",
              "       [ 0.00000000e+00, -1.84615385e+00,  9.61798715e-02],\n",
              "       [-2.00000000e+00,  1.34615385e+00,  6.01533191e-01],\n",
              "       [-1.00000000e+00, -3.84615385e-01, -6.22783726e-02],\n",
              "       [ 0.00000000e+00,  3.07692308e-01, -2.79623126e-01],\n",
              "       [ 0.00000000e+00, -1.53846154e-01, -2.82655246e-01],\n",
              "       [ 0.00000000e+00, -1.69230769e+00,  7.20376874e-01],\n",
              "       [-2.00000000e+00, -3.07692308e-01,  9.98143897e+00],\n",
              "       [-2.00000000e+00,  1.30769231e+00,  5.18021413e-01],\n",
              "       [-1.00000000e+00,  7.69230769e-02,  5.68162741e-01],\n",
              "       [ 0.00000000e+00,  0.00000000e+00, -2.80873662e-01],\n",
              "       [-2.00000000e+00,  0.00000000e+00,  9.01319058e-01],\n",
              "       [-1.00000000e+00,  1.07692308e+00, -6.22783726e-02],\n",
              "       [ 0.00000000e+00,  6.15384615e-01,  4.15237687e-01],\n",
              "       [-1.00000000e+00,  3.84615385e-01, -9.33276231e-02],\n",
              "       [ 0.00000000e+00, -8.46153846e-01, -3.16916488e-01],\n",
              "       [ 0.00000000e+00,  7.69230769e-02, -2.12171306e-01],\n",
              "       [-1.00000000e+00,  1.69230769e+00,  4.94466809e-01],\n",
              "       [-2.00000000e+00,  5.38461538e-01,  3.23536617e+00],\n",
              "       [-2.00000000e+00,  7.69230769e-01,  9.12508779e+00],\n",
              "       [-1.00000000e+00,  4.61538462e-01, -6.22783726e-02],\n",
              "       [-2.00000000e+00, -8.46153846e-01,  1.82208994e+00],\n",
              "       [ 0.00000000e+00, -1.30769231e+00,  7.20376874e-01],\n",
              "       [ 0.00000000e+00,  2.53846154e+00, -3.51892934e-01],\n",
              "       [ 0.00000000e+00,  1.53846154e-01, -2.48038544e-01],\n",
              "       [-1.00000000e+00, -1.61538462e+00,  5.05173448e-01],\n",
              "       [ 0.00000000e+00,  2.69230769e+00, -2.08423983e-01],\n",
              "       [ 0.00000000e+00, -6.15384615e-01, -3.09421842e-01],\n",
              "       [ 0.00000000e+00,  0.00000000e+00,  3.38505353e-01],\n",
              "       [ 0.00000000e+00,  7.69230769e-02, -2.12886510e-01],\n",
              "       [-2.00000000e+00,  6.15384615e-01,  4.52016274e+00],\n",
              "       [ 0.00000000e+00,  0.00000000e+00,  1.75588865e-04],\n",
              "       [ 0.00000000e+00,  1.69230769e+00, -2.74269807e-01],\n",
              "       [-2.00000000e+00, -7.69230769e-02,  8.43879229e+00],\n",
              "       [ 0.00000000e+00,  1.53846154e-01, -3.08531049e-01],\n",
              "       [-2.00000000e+00,  3.84615385e-01,  3.23536617e+00],\n",
              "       [ 0.00000000e+00,  0.00000000e+00, -2.88188437e-01],\n",
              "       [ 0.00000000e+00,  0.00000000e+00,  4.71627409e-01],\n",
              "       [ 0.00000000e+00, -2.00000000e+00,  2.83546039e-01],\n",
              "       [-1.00000000e+00, -2.30769231e-01,  6.65773019e-01],\n",
              "       [-2.00000000e+00,  1.76923077e+00,  2.00963597e+00],\n",
              "       [-1.00000000e+00, -2.30769231e-01,  4.94466809e-01],\n",
              "       [ 0.00000000e+00,  0.00000000e+00, -3.08531049e-01],\n",
              "       [ 0.00000000e+00,  0.00000000e+00, -2.80873662e-01],\n",
              "       [-1.00000000e+00, -3.07692308e-01, -6.22783726e-02],\n",
              "       [ 0.00000000e+00, -7.69230769e-01,  2.46608137e-01],\n",
              "       [-2.00000000e+00,  0.00000000e+00,  6.87186296e-01],\n",
              "       [ 0.00000000e+00, -2.30769231e-01, -3.17096360e-01],\n",
              "       [-1.00000000e+00, -3.07692308e-01,  1.96145610e-03],\n",
              "       [ 0.00000000e+00, -4.61538462e-01, -2.96933619e-01],\n",
              "       [-2.00000000e+00, -2.08307692e+00,  5.87134047e+00],\n",
              "       [-1.00000000e+00, -3.07692308e-01,  4.94466809e-01],\n",
              "       [ 0.00000000e+00, -1.53846154e-01, -2.79623126e-01],\n",
              "       [-1.00000000e+00,  4.61538462e-01,  2.80334047e-01],\n",
              "       [-2.00000000e+00, -5.38461538e-01,  1.06175931e+01],\n",
              "       [ 0.00000000e+00,  0.00000000e+00, -2.87117773e-01],\n",
              "       [ 0.00000000e+00,  0.00000000e+00, -3.09421842e-01],\n",
              "       [ 0.00000000e+00,  0.00000000e+00, -2.48038544e-01],\n",
              "       [ 0.00000000e+00, -4.61538462e-01, -2.86047109e-01],\n",
              "       [-2.00000000e+00,  2.61538462e+00,  2.80710064e+00],\n",
              "       [ 0.00000000e+00, -7.69230769e-01, -1.97537473e-01],\n",
              "       [-2.00000000e+00,  1.07692308e+00,  9.12508779e+00],\n",
              "       [-1.00000000e+00,  2.23076923e+00, -9.01156317e-02],\n",
              "       [ 0.00000000e+00, -6.92307692e-01, -6.19023555e-01],\n",
              "       [-1.00000000e+00,  1.07692308e+00,  4.94466809e-01],\n",
              "       [ 0.00000000e+00,  0.00000000e+00, -3.09601713e-01],\n",
              "       [ 0.00000000e+00, -6.15384615e-01, -2.48038544e-01],\n",
              "       [ 0.00000000e+00,  5.00000000e-01, -3.43327623e-01],\n",
              "       [ 0.00000000e+00,  0.00000000e+00, -2.12171306e-01],\n",
              "       [ 0.00000000e+00,  0.00000000e+00, -2.74269807e-01],\n",
              "       [ 0.00000000e+00, -3.84615385e-01, -2.80873662e-01],\n",
              "       [ 0.00000000e+00, -4.61538462e-01, -3.08531049e-01],\n",
              "       [-2.00000000e+00,  1.84615385e+00,  6.87186296e-01],\n",
              "       [ 0.00000000e+00,  1.53846154e-01, -8.47623126e-02],\n",
              "       [-1.00000000e+00,  6.53846154e-01,  4.94466809e-01],\n",
              "       [ 0.00000000e+00,  0.00000000e+00, -2.87117773e-01],\n",
              "       [ 0.00000000e+00, -4.61538462e-01, -3.09421842e-01],\n",
              "       [-2.00000000e+00,  1.69230769e+00,  5.10474518e+00],\n",
              "       [ 0.00000000e+00, -7.69230769e-02, -3.20308351e-01],\n",
              "       [ 0.00000000e+00, -4.61538462e-01, -2.74269807e-01],\n",
              "       [-2.00000000e+00,  1.76923077e+00,  2.71966167e+00],\n",
              "       [-1.00000000e+00,  6.15384615e-01, -1.69344754e-01],\n",
              "       [-1.00000000e+00,  7.69230769e-02,  4.94466809e-01],\n",
              "       [-2.00000000e+00, -4.61538462e-01,  5.87134047e+00],\n",
              "       [-2.00000000e+00,  1.69230769e+00,  3.93879229e+00],\n",
              "       [-1.00000000e+00,  9.23076923e-01, -6.22783726e-02],\n",
              "       [ 0.00000000e+00, -7.69230769e-02, -2.48038544e-01],\n",
              "       [-2.00000000e+00,  0.00000000e+00, -6.19023555e-01],\n",
              "       [-2.00000000e+00,  2.84615385e+00,  5.18021413e-01],\n",
              "       [ 0.00000000e+00, -8.46153846e-01, -2.48038544e-01],\n",
              "       [-2.00000000e+00,  0.00000000e+00,  5.18021413e-01],\n",
              "       [-2.00000000e+00, -1.84615385e+00,  2.88668522e+00],\n",
              "       [ 0.00000000e+00,  0.00000000e+00, -2.80873662e-01],\n",
              "       [ 0.00000000e+00, -2.07692308e+00, -1.42222698e-01],\n",
              "       [-1.00000000e+00,  6.15384615e-01,  5.69413276e-01],\n",
              "       [-1.00000000e+00,  1.15384615e+00,  5.05173448e-01],\n",
              "       [-2.00000000e+00,  7.69230769e-01,  5.95324625e+00],\n",
              "       [-1.00000000e+00,  2.30769231e-01,  5.05173448e-01],\n",
              "       [ 0.00000000e+00,  7.69230769e-02, -2.74269807e-01],\n",
              "       [ 0.00000000e+00, -7.69230769e-01, -2.63563169e-01],\n",
              "       [-1.00000000e+00,  0.00000000e+00,  2.55160600e-02],\n",
              "       [-2.00000000e+00,  8.46153846e-01,  4.12972591e+00],\n",
              "       [-1.00000000e+00,  8.46153846e-01, -6.22783726e-02],\n",
              "       [ 0.00000000e+00, -1.53846154e-01, -2.48038544e-01],\n",
              "       [ 0.00000000e+00, -6.15384615e-01, -3.17096360e-01],\n",
              "       [-2.00000000e+00,  0.00000000e+00,  5.10474518e+00],\n",
              "       [ 0.00000000e+00,  1.61538462e+00, -6.19023555e-01],\n",
              "       [-1.00000000e+00, -3.84615385e-01,  2.53361884e-02],\n",
              "       [ 0.00000000e+00, -2.07692308e+00,  1.08065525e+00],\n",
              "       [ 0.00000000e+00,  0.00000000e+00, -2.81584582e-01],\n",
              "       [ 0.00000000e+00,  0.00000000e+00,  3.85259101e-01],\n",
              "       [-1.00000000e+00, -1.92307692e+00,  4.94466809e-01],\n",
              "       [ 0.00000000e+00, -1.84615385e+00, -1.42222698e-01],\n",
              "       [ 0.00000000e+00, -6.92307692e-01, -2.91400428e-01],\n",
              "       [ 0.00000000e+00,  9.61538462e-01, -2.87117773e-01],\n",
              "       [ 0.00000000e+00, -2.07692308e+00,  5.51391863e-02],\n",
              "       [ 0.00000000e+00,  0.00000000e+00,  3.39014989e-02],\n",
              "       [ 0.00000000e+00, -5.38461538e-01, -2.79623126e-01]])"
            ]
          },
          "metadata": {},
          "execution_count": 30
        }
      ],
      "source": [
        "scaler.transform(X_test)"
      ]
    },
    {
      "cell_type": "code",
      "execution_count": 31,
      "metadata": {
        "colab": {
          "base_uri": "https://localhost:8080/",
          "height": 567
        },
        "id": "SHWda-1kmLyq",
        "outputId": "bcf6a93d-e62c-4d90-c7c7-dc291971a02f"
      },
      "outputs": [
        {
          "output_type": "execute_result",
          "data": {
            "text/plain": [
              "<seaborn.axisgrid.PairGrid at 0x7f3f0dbe1250>"
            ]
          },
          "metadata": {},
          "execution_count": 31
        },
        {
          "output_type": "display_data",
          "data": {
            "image/png": "[encoded data removed]",
            "text/plain": [
              "<Figure size 540x540 with 12 Axes>"
            ]
          },
          "metadata": {
            "needs_background": "light"
          }
        }
      ],
      "source": [
        "import seaborn as sns\n",
        "sns.pairplot(df_robust_scaler)"
      ]
    },
    {
      "cell_type": "code",
      "execution_count": 32,
      "metadata": {
        "colab": {
          "base_uri": "https://localhost:8080/",
          "height": 743
        },
        "id": "Q150v6AlmLyq",
        "outputId": "936e9c4b-8abb-4f0e-dfb4-f58d0e1e06a6"
      },
      "outputs": [
        {
          "output_type": "execute_result",
          "data": {
            "text/plain": [
              "<seaborn.axisgrid.PairGrid at 0x7f3f0d629890>"
            ]
          },
          "metadata": {},
          "execution_count": 32
        },
        {
          "output_type": "display_data",
          "data": {
            "image/png": "[encoded data removed]",
            "text/plain": [
              "<Figure size 720x720 with 20 Axes>"
            ]
          },
          "metadata": {
            "needs_background": "light"
          }
        }
      ],
      "source": [
        "import seaborn as sns\n",
        "sns.pairplot(df)"
      ]
    },
    {
      "cell_type": "code",
      "execution_count": 35,
      "metadata": {
        "colab": {
          "base_uri": "https://localhost:8080/",
          "height": 404
        },
        "id": "c465O76jmLyq",
        "outputId": "a0cdf7ab-4dc2-4e31-b9de-033aedd701b7"
      },
      "outputs": [
        {
          "output_type": "execute_result",
          "data": {
            "text/plain": [
              "(array([ 29.,   9.,   9.,  23.,  50.,  63., 180.,  56.,  50.,  25.,  24.,\n",
              "         27.,  16.,  15.,  10.,   5.,   0.,   3.,   1.,   1.]),\n",
              " array([-2.12153846, -1.81546154, -1.50938462, -1.20330769, -0.89723077,\n",
              "        -0.59115385, -0.28507692,  0.021     ,  0.32707692,  0.63315385,\n",
              "         0.93923077,  1.24530769,  1.55138462,  1.85746154,  2.16353846,\n",
              "         2.46961538,  2.77569231,  3.08176923,  3.38784615,  3.69392308,\n",
              "         4.        ]),\n",
              " <a list of 20 Patch objects>)"
            ]
          },
          "metadata": {},
          "execution_count": 35
        },
        {
          "output_type": "display_data",
          "data": {
            "image/png": "[encoded data removed]",
            "text/plain": [
              "<Figure size 432x288 with 1 Axes>"
            ]
          },
          "metadata": {
            "needs_background": "light"
          }
        }
      ],
      "source": [
        "plt.hist(df_robust_scaler[1],bins=20)"
      ]
    },
    {
      "cell_type": "code",
      "execution_count": 36,
      "metadata": {
        "colab": {
          "base_uri": "https://localhost:8080/",
          "height": 407
        },
        "id": "zoEyAr4FmLyr",
        "outputId": "b900744a-5dad-4afd-eef6-03f2ba448e49"
      },
      "outputs": [
        {
          "output_type": "execute_result",
          "data": {
            "text/plain": [
              "(array([384., 106.,  51.,  24.,   8.,   9.,   2.,   0.,   5.,   0.,   4.,\n",
              "          0.,   0.,   0.,   0.,   0.,   0.,   0.,   0.,   3.]),\n",
              " array([-0.61902355,  0.47804111,  1.57510578,  2.67217045,  3.76923512,\n",
              "         4.86629979,  5.96336445,  7.06042912,  8.15749379,  9.25455846,\n",
              "        10.35162313, 11.44868779, 12.54575246, 13.64281713, 14.7398818 ,\n",
              "        15.83694647, 16.93401113, 18.0310758 , 19.12814047, 20.22520514,\n",
              "        21.32226981]),\n",
              " <a list of 20 Patch objects>)"
            ]
          },
          "metadata": {},
          "execution_count": 36
        },
        {
          "output_type": "display_data",
          "data": {
            "image/png": "[encoded data removed]",
            "text/plain": [
              "<Figure size 432x288 with 1 Axes>"
            ]
          },
          "metadata": {
            "needs_background": "light"
          }
        }
      ],
      "source": [
        "plt.hist(df_robust_scaler[2],bins=20)"
      ]
    },
    {
      "cell_type": "markdown",
      "metadata": {
        "id": "yFrC9oODmLyr"
      },
      "source": [
        "#### Guassian Transformation\n",
        "\n",
        "Some machine learning algorithms like linear and logistic assume that the features are normally distributed\n",
        "-Accuracy\n",
        "-Performance\n",
        "- logarithmic transformation\n",
        "- reciprocal transformation\n",
        "- square root transformation\n",
        "- exponential transformation (more general, you can use any exponent)\n",
        "- boxcox transformation\n"
      ]
    },
    {
      "cell_type": "code",
      "execution_count": 38,
      "metadata": {
        "colab": {
          "base_uri": "https://localhost:8080/",
          "height": 206
        },
        "id": "DG3EBQ8NmLyr",
        "outputId": "593015af-86b7-499f-daef-eb73f0f06611"
      },
      "outputs": [
        {
          "output_type": "execute_result",
          "data": {
            "text/html": [
              "\n",
              "  <div id=\"df-1129a466-08ce-45b3-b056-b253c37ceb24\">\n",
              "    <div class=\"colab-df-container\">\n",
              "      <div>\n",
              "<style scoped>\n",
              "    .dataframe tbody tr th:only-of-type {\n",
              "        vertical-align: middle;\n",
              "    }\n",
              "\n",
              "    .dataframe tbody tr th {\n",
              "        vertical-align: top;\n",
              "    }\n",
              "\n",
              "    .dataframe thead th {\n",
              "        text-align: right;\n",
              "    }\n",
              "</style>\n",
              "<table border=\"1\" class=\"dataframe\">\n",
              "  <thead>\n",
              "    <tr style=\"text-align: right;\">\n",
              "      <th></th>\n",
              "      <th>Survived</th>\n",
              "      <th>Age</th>\n",
              "      <th>Fare</th>\n",
              "    </tr>\n",
              "  </thead>\n",
              "  <tbody>\n",
              "    <tr>\n",
              "      <th>0</th>\n",
              "      <td>0</td>\n",
              "      <td>22.0</td>\n",
              "      <td>7.2500</td>\n",
              "    </tr>\n",
              "    <tr>\n",
              "      <th>1</th>\n",
              "      <td>1</td>\n",
              "      <td>38.0</td>\n",
              "      <td>71.2833</td>\n",
              "    </tr>\n",
              "    <tr>\n",
              "      <th>2</th>\n",
              "      <td>1</td>\n",
              "      <td>26.0</td>\n",
              "      <td>7.9250</td>\n",
              "    </tr>\n",
              "    <tr>\n",
              "      <th>3</th>\n",
              "      <td>1</td>\n",
              "      <td>35.0</td>\n",
              "      <td>53.1000</td>\n",
              "    </tr>\n",
              "    <tr>\n",
              "      <th>4</th>\n",
              "      <td>0</td>\n",
              "      <td>35.0</td>\n",
              "      <td>8.0500</td>\n",
              "    </tr>\n",
              "  </tbody>\n",
              "</table>\n",
              "</div>\n",
              "      <button class=\"colab-df-convert\" onclick=\"convertToInteractive('df-1129a466-08ce-45b3-b056-b253c37ceb24')\"\n",
              "              title=\"Convert this dataframe to an interactive table.\"\n",
              "              style=\"display:none;\">\n",
              "        \n",
              "  <svg xmlns=\"http://www.w3.org/2000/svg\" height=\"24px\"viewBox=\"0 0 24 24\"\n",
              "       width=\"24px\">\n",
              "    <path d=\"M0 0h24v24H0V0z\" fill=\"none\"/>\n",
              "    <path d=\"M18.56 5.44l.94 2.06.94-2.06 2.06-.94-2.06-.94-.94-2.06-.94 2.06-2.06.94zm-11 1L8.5 8.5l.94-2.06 2.06-.94-2.06-.94L8.5 2.5l-.94 2.06-2.06.94zm10 10l.94 2.06.94-2.06 2.06-.94-2.06-.94-.94-2.06-.94 2.06-2.06.94z\"/><path d=\"M17.41 7.96l-1.37-1.37c-.4-.4-.92-.59-1.43-.59-.52 0-1.04.2-1.43.59L10.3 9.45l-7.72 7.72c-.78.78-.78 2.05 0 2.83L4 21.41c.39.39.9.59 1.41.59.51 0 1.02-.2 1.41-.59l7.78-7.78 2.81-2.81c.8-.78.8-2.07 0-2.86zM5.41 20L4 18.59l7.72-7.72 1.47 1.35L5.41 20z\"/>\n",
              "  </svg>\n",
              "      </button>\n",
              "      \n",
              "  <style>\n",
              "    .colab-df-container {\n",
              "      display:flex;\n",
              "      flex-wrap:wrap;\n",
              "      gap: 12px;\n",
              "    }\n",
              "\n",
              "    .colab-df-convert {\n",
              "      background-color: #E8F0FE;\n",
              "      border: none;\n",
              "      border-radius: 50%;\n",
              "      cursor: pointer;\n",
              "      display: none;\n",
              "      fill: #1967D2;\n",
              "      height: 32px;\n",
              "      padding: 0 0 0 0;\n",
              "      width: 32px;\n",
              "    }\n",
              "\n",
              "    .colab-df-convert:hover {\n",
              "      background-color: #E2EBFA;\n",
              "      box-shadow: 0px 1px 2px rgba(60, 64, 67, 0.3), 0px 1px 3px 1px rgba(60, 64, 67, 0.15);\n",
              "      fill: #174EA6;\n",
              "    }\n",
              "\n",
              "    [theme=dark] .colab-df-convert {\n",
              "      background-color: #3B4455;\n",
              "      fill: #D2E3FC;\n",
              "    }\n",
              "\n",
              "    [theme=dark] .colab-df-convert:hover {\n",
              "      background-color: #434B5C;\n",
              "      box-shadow: 0px 1px 3px 1px rgba(0, 0, 0, 0.15);\n",
              "      filter: drop-shadow(0px 1px 2px rgba(0, 0, 0, 0.3));\n",
              "      fill: #FFFFFF;\n",
              "    }\n",
              "  </style>\n",
              "\n",
              "      <script>\n",
              "        const buttonEl =\n",
              "          document.querySelector('#df-1129a466-08ce-45b3-b056-b253c37ceb24 button.colab-df-convert');\n",
              "        buttonEl.style.display =\n",
              "          google.colab.kernel.accessAllowed ? 'block' : 'none';\n",
              "\n",
              "        async function convertToInteractive(key) {\n",
              "          const element = document.querySelector('#df-1129a466-08ce-45b3-b056-b253c37ceb24');\n",
              "          const dataTable =\n",
              "            await google.colab.kernel.invokeFunction('convertToInteractive',\n",
              "                                                     [key], {});\n",
              "          if (!dataTable) return;\n",
              "\n",
              "          const docLinkHtml = 'Like what you see? Visit the ' +\n",
              "            '<a target=\"_blank\" href=https://colab.research.google.com/notebooks/data_table.ipynb>data table notebook</a>'\n",
              "            + ' to learn more about interactive tables.';\n",
              "          element.innerHTML = '';\n",
              "          dataTable['output_type'] = 'display_data';\n",
              "          await google.colab.output.renderOutput(dataTable, element);\n",
              "          const docLink = document.createElement('div');\n",
              "          docLink.innerHTML = docLinkHtml;\n",
              "          element.appendChild(docLink);\n",
              "        }\n",
              "      </script>\n",
              "    </div>\n",
              "  </div>\n",
              "  "
            ],
            "text/plain": [
              "   Survived   Age     Fare\n",
              "0         0  22.0   7.2500\n",
              "1         1  38.0  71.2833\n",
              "2         1  26.0   7.9250\n",
              "3         1  35.0  53.1000\n",
              "4         0  35.0   8.0500"
            ]
          },
          "metadata": {},
          "execution_count": 38
        }
      ],
      "source": [
        "df=pd.read_csv('titanic.csv',usecols=['Age','Fare','Survived'])\n",
        "df.head()"
      ]
    },
    {
      "cell_type": "code",
      "execution_count": 39,
      "metadata": {
        "id": "wzxi-T59mLyr"
      },
      "outputs": [],
      "source": [
        "### fillnan\n",
        "df['Age']=df['Age'].fillna(df['Age'].median())"
      ]
    },
    {
      "cell_type": "code",
      "execution_count": 40,
      "metadata": {
        "colab": {
          "base_uri": "https://localhost:8080/"
        },
        "id": "4lZkSjvkmLys",
        "outputId": "9a688a97-cadb-4276-9a77-e6d1e2849016"
      },
      "outputs": [
        {
          "output_type": "execute_result",
          "data": {
            "text/plain": [
              "Survived    0\n",
              "Age         0\n",
              "Fare        0\n",
              "dtype: int64"
            ]
          },
          "metadata": {},
          "execution_count": 40
        }
      ],
      "source": [
        "df.isnull().sum()"
      ]
    },
    {
      "cell_type": "code",
      "execution_count": 41,
      "metadata": {
        "id": "rRFV5YBAmLys"
      },
      "outputs": [],
      "source": [
        "import matplotlib.pyplot as plt\n"
      ]
    },
    {
      "cell_type": "code",
      "execution_count": 42,
      "metadata": {
        "id": "qAaFCtVVmLys"
      },
      "outputs": [],
      "source": [
        "import scipy.stats as stat\n",
        "import pylab "
      ]
    },
    {
      "cell_type": "code",
      "execution_count": 43,
      "metadata": {
        "id": "E6fjzZhzmLys"
      },
      "outputs": [],
      "source": [
        "#### If you want to check whether feature is guassian or normal distributed\n",
        "#### Q-Q plot\n",
        "def plot_data(df,feature):\n",
        "    plt.figure(figsize=(10,6))\n",
        "    plt.subplot(1,2,1)\n",
        "    df[feature].hist()\n",
        "    plt.subplot(1,2,2)\n",
        "    stat.probplot(df[feature],dist='norm',plot=pylab)\n",
        "    plt.show()\n",
        "    "
      ]
    },
    {
      "cell_type": "code",
      "execution_count": 44,
      "metadata": {
        "colab": {
          "base_uri": "https://localhost:8080/",
          "height": 404
        },
        "id": "FlZNMY1GmLys",
        "outputId": "ae2cfae3-b636-4587-e642-d6d32b445f77"
      },
      "outputs": [
        {
          "output_type": "display_data",
          "data": {
            "image/png": "[encoded data removed]",
            "text/plain": [
              "<Figure size 720x432 with 2 Axes>"
            ]
          },
          "metadata": {
            "needs_background": "light"
          }
        }
      ],
      "source": [
        "plot_data(df,'Age')"
      ]
    },
    {
      "cell_type": "markdown",
      "metadata": {
        "id": "a6XZ0W7wmLys"
      },
      "source": [
        "#### Logarithmic Transformation"
      ]
    },
    {
      "cell_type": "code",
      "execution_count": 45,
      "metadata": {
        "colab": {
          "base_uri": "https://localhost:8080/",
          "height": 404
        },
        "id": "1D7v1JuGmLyt",
        "outputId": "56d6c607-ae16-47e4-f54c-7d6475b0ff6b"
      },
      "outputs": [
        {
          "output_type": "display_data",
          "data": {
            "image/png": "[encoded data removed]",
            "text/plain": [
              "<Figure size 720x432 with 2 Axes>"
            ]
          },
          "metadata": {
            "needs_background": "light"
          }
        }
      ],
      "source": [
        "import numpy as np\n",
        "df['Age_log']=np.log(df['Age'])\n",
        "plot_data(df,'Age_log')"
      ]
    },
    {
      "cell_type": "markdown",
      "metadata": {
        "id": "2THCnn9pmLyt"
      },
      "source": [
        "#### Reciprocal Trnasformation"
      ]
    },
    {
      "cell_type": "code",
      "execution_count": 46,
      "metadata": {
        "colab": {
          "base_uri": "https://localhost:8080/",
          "height": 404
        },
        "id": "JtHR5tmsmLyt",
        "outputId": "1771ada6-02ad-4ab2-8b24-748268d0effe"
      },
      "outputs": [
        {
          "output_type": "display_data",
          "data": {
            "image/png": "[encoded data removed]",
            "text/plain": [
              "<Figure size 720x432 with 2 Axes>"
            ]
          },
          "metadata": {
            "needs_background": "light"
          }
        }
      ],
      "source": [
        "df['Age_reciprocal']=1/df.Age\n",
        "plot_data(df,'Age_reciprocal')"
      ]
    },
    {
      "cell_type": "code",
      "execution_count": 47,
      "metadata": {
        "colab": {
          "base_uri": "https://localhost:8080/",
          "height": 404
        },
        "id": "VdfEZof3mLyt",
        "outputId": "c4cd208a-8638-4f2e-9c4a-70e4db101df0"
      },
      "outputs": [
        {
          "output_type": "display_data",
          "data": {
            "image/png": "[encoded data removed]",
            "text/plain": [
              "<Figure size 720x432 with 2 Axes>"
            ]
          },
          "metadata": {
            "needs_background": "light"
          }
        }
      ],
      "source": [
        "##### Square Root Transformation\n",
        "df['Age_sqaure']=df.Age**(1/2)\n",
        "plot_data(df,'Age_sqaure')"
      ]
    },
    {
      "cell_type": "code",
      "execution_count": 48,
      "metadata": {
        "colab": {
          "base_uri": "https://localhost:8080/",
          "height": 404
        },
        "id": "cWPw7GzxmLyt",
        "outputId": "4838a378-a703-47d8-f003-7fb23b4c9cb2"
      },
      "outputs": [
        {
          "output_type": "display_data",
          "data": {
            "image/png": "[encoded data removed]",
            "text/plain": [
              "<Figure size 720x432 with 2 Axes>"
            ]
          },
          "metadata": {
            "needs_background": "light"
          }
        }
      ],
      "source": [
        "#### Exponential Transdormation\n",
        "df['Age_exponential']=df.Age**(1/1.2)\n",
        "plot_data(df,'Age_exponential')"
      ]
    },
    {
      "cell_type": "markdown",
      "metadata": {
        "id": "ACDuSCDrmLyu"
      },
      "source": [
        "#### BoxCOx Transformation\n",
        "The Box-Cox transformation is defined as: \n",
        "\n",
        "T(Y)=(Y exp(λ)−1)/λ\n",
        "\n",
        "where Y is the response variable and λ is the transformation parameter. λ varies from -5 to 5. In the transformation, all values of λ  are considered and the optimal value for a given variable is selected."
      ]
    },
    {
      "cell_type": "code",
      "execution_count": 49,
      "metadata": {
        "id": "b1N5E454mLyu"
      },
      "outputs": [],
      "source": [
        "df['Age_Boxcox'],parameters=stat.boxcox(df['Age'])"
      ]
    },
    {
      "cell_type": "code",
      "execution_count": 50,
      "metadata": {
        "colab": {
          "base_uri": "https://localhost:8080/"
        },
        "id": "7a_9LgB3mLyu",
        "outputId": "6c5c5fcf-ceb2-4b77-fb24-d9ec6f575123"
      },
      "outputs": [
        {
          "output_type": "stream",
          "name": "stdout",
          "text": [
            "0.7964531473656952\n"
          ]
        }
      ],
      "source": [
        "print(parameters)"
      ]
    },
    {
      "cell_type": "code",
      "execution_count": 51,
      "metadata": {
        "colab": {
          "base_uri": "https://localhost:8080/",
          "height": 404
        },
        "id": "8g4UPjIpmLyv",
        "outputId": "26fab026-f831-45ce-ddda-fb59992b42ec"
      },
      "outputs": [
        {
          "output_type": "display_data",
          "data": {
            "image/png": "[encoded data removed]",
            "text/plain": [
              "<Figure size 720x432 with 2 Axes>"
            ]
          },
          "metadata": {
            "needs_background": "light"
          }
        }
      ],
      "source": [
        "plot_data(df,'Age_Boxcox')"
      ]
    },
    {
      "cell_type": "code",
      "execution_count": 52,
      "metadata": {
        "colab": {
          "base_uri": "https://localhost:8080/",
          "height": 404
        },
        "id": "KRZ636QImLyv",
        "outputId": "3d75215a-37e8-409f-9173-47bfc2363dd6"
      },
      "outputs": [
        {
          "output_type": "display_data",
          "data": {
            "image/png": "[encoded data removed]",
            "text/plain": [
              "<Figure size 720x432 with 2 Axes>"
            ]
          },
          "metadata": {
            "needs_background": "light"
          }
        }
      ],
      "source": [
        "plot_data(df,'Fare')"
      ]
    },
    {
      "cell_type": "code",
      "execution_count": 53,
      "metadata": {
        "colab": {
          "base_uri": "https://localhost:8080/",
          "height": 404
        },
        "id": "Gmo6dCcImLyv",
        "outputId": "610613ef-fac6-4da5-8ccb-80d0ff0ccbf7"
      },
      "outputs": [
        {
          "output_type": "display_data",
          "data": {
            "image/png": "[encoded data removed]",
            "text/plain": [
              "<Figure size 720x432 with 2 Axes>"
            ]
          },
          "metadata": {
            "needs_background": "light"
          }
        }
      ],
      "source": [
        "#### Fare\n",
        "df['Fare_log']=np.log1p(df['Fare'])\n",
        "plot_data(df,'Fare_log')"
      ]
    },
    {
      "cell_type": "code",
      "execution_count": 54,
      "metadata": {
        "colab": {
          "base_uri": "https://localhost:8080/",
          "height": 404
        },
        "id": "_m4EZIVdmLyv",
        "outputId": "d6d695cb-5dd2-45ed-91dd-29bcd68d7235"
      },
      "outputs": [
        {
          "output_type": "display_data",
          "data": {
            "image/png": "[encoded data removed]",
            "text/plain": [
              "<Figure size 720x432 with 2 Axes>"
            ]
          },
          "metadata": {
            "needs_background": "light"
          }
        }
      ],
      "source": [
        "df['Fare_Boxcox'],parameters=stat.boxcox(df['Fare']+1)\n",
        "plot_data(df,'Fare_Boxcox')"
      ]
    },
    {
      "cell_type": "code",
      "execution_count": null,
      "metadata": {
        "id": "3C9B8ulEmLyv"
      },
      "outputs": [],
      "source": [
        ""
      ]
    }
  ],
  "metadata": {
    "kernelspec": {
      "display_name": "Python 3",
      "language": "python",
      "name": "python3"
    },
    "language_info": {
      "codemirror_mode": {
        "name": "ipython",
        "version": 3
      },
      "file_extension": ".py",
      "mimetype": "text/x-python",
      "name": "python",
      "nbconvert_exporter": "python",
      "pygments_lexer": "ipython3",
      "version": "3.7.10"
    },
    "colab": {
      "name": "Feature_Transformation_All_Types_Details.ipynb",
      "provenance": []
    }
  },
  "nbformat": 4,
  "nbformat_minor": 0
}